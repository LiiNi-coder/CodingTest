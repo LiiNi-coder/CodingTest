{
 "cells": [
  {
   "cell_type": "markdown",
   "metadata": {},
   "source": [
    "# [트리](https://github.com/tony9402/baekjoon/tree/main/tree)"
   ]
  },
  {
   "cell_type": "markdown",
   "metadata": {},
   "source": [
    "## 1068 트리\n",
    "### 골드5\n",
    "[백준링크](https://www.acmicpc.net/problem/1068)"
   ]
  },
  {
   "cell_type": "markdown",
   "metadata": {},
   "source": [
    "아래 코드는 그래프 자료구조를 사용해서 효율이 매우 떨어지고, 이진트리에서만 가능하게 됨. 따라서  \n",
    "```input:\n",
    "5\n",
    "4 4 4 4 -1\n",
    "0\n",
    "\n",
    "output:\n",
    "4```  \n",
    "는 이상하게 나오는 문제가 있다.  \n",
    "## 따라서 트리 문제가 나오면 반드시 일자 배열 자료구조를 먼저 생각해보자!"
   ]
  },
  {
   "cell_type": "code",
   "execution_count": 22,
   "metadata": {},
   "outputs": [
    {
     "name": "stdout",
     "output_type": "stream",
     "text": [
      "2\n"
     ]
    }
   ],
   "source": [
    "from collections import deque\n",
    "class Tree:\n",
    "    class Node:\n",
    "        def __init__(self, key):\n",
    "            self.key = key\n",
    "            self.childs = []\n",
    "    def __init__(self):\n",
    "        self.root = None\n",
    "    def __str__(self):\n",
    "        assert(self.root is not None)\n",
    "        stack = [self.root]\n",
    "        string = \"\"\n",
    "        while len(stack) > 0:\n",
    "            iter = stack.pop()\n",
    "            string += f\"{iter.key}, \"\n",
    "            for child in iter.childs:\n",
    "                stack.append(child)\n",
    "        return string\n",
    "    def deleteNode(self, key):\n",
    "        #삭제할 노드는 보통 중간층에 있을 것이니 bfs사용\n",
    "        if key == \n",
    "            self.root = None\n",
    "            return\n",
    "        q= deque()\n",
    "        q.append(self.root)     \n",
    "        while len(q)>0:\n",
    "            iter = q.popleft()\n",
    "            if iter.left is not None:\n",
    "                if iter.left.key is key:\n",
    "                    iter.left = None\n",
    "                    break\n",
    "                q.append(iter.left)\n",
    "            if iter.right is not None:\n",
    "                if iter.right.key == key:\n",
    "                    iter.right = None\n",
    "                    break\n",
    "                q.append(iter.right)\n",
    "    def getLeafNode(self):\n",
    "        if self.root is None:\n",
    "            return []\n",
    "        stack = [self.root]\n",
    "        leaf_nodes = []\n",
    "        while len(stack) > 0:\n",
    "            iter = stack.pop()\n",
    "            if len(iter.childs) == 0:\n",
    "                leaf_nodes.append(iter.key)\n",
    "            for child in iter.childs:\n",
    "                stack.append(child)\n",
    "        return leaf_nodes\n",
    "    def insertNode(self, key, parent):\n",
    "        if parent == -1:\n",
    "            self.root = self.Node(key)\n",
    "            return\n",
    "        stack = [self.root]\n",
    "        child = None\n",
    "        while len(stack) > 0:\n",
    "            iter = stack.pop()\n",
    "            if iter.key == parent:\n",
    "                child = iter\n",
    "                break\n",
    "            for child in iter.childs:\n",
    "                stack.append(child)\n",
    "        child.childs.append(self.Node(key))\n",
    "                \n",
    "n = int(input())\n",
    "tree = Tree()\n",
    "for i, parent in enumerate(list(map(int, input().split()))):\n",
    "    tree.insertNode(i, parent)\n",
    "\n",
    "tree.deleteNode(int(input()))\n",
    "print(len(tree.getLeafNode()))\n"
   ]
  },
  {
   "cell_type": "markdown",
   "metadata": {},
   "source": [
    "### 트리 자료구조를 배열로 하고 다시 풂"
   ]
  },
  {
   "cell_type": "code",
   "execution_count": 49,
   "metadata": {},
   "outputs": [
    {
     "name": "stdout",
     "output_type": "stream",
     "text": [
      "0\n",
      "1\n"
     ]
    },
    {
     "ename": "",
     "evalue": "",
     "output_type": "error",
     "traceback": [
      "\u001b[1;31mThe Kernel crashed while executing code in the current cell or a previous cell. \n",
      "\u001b[1;31mPlease review the code in the cell(s) to identify a possible cause of the failure. \n",
      "\u001b[1;31mClick <a href='https://aka.ms/vscodeJupyterKernelCrash'>here</a> for more info. \n",
      "\u001b[1;31mView Jupyter <a href='command:jupyter.viewOutput'>log</a> for further details."
     ]
    }
   ],
   "source": [
    "#배열 / 아이템:노드 / index:int;노드key / value:tuple(int, set()); [0]는 부모, [1]자식들\n",
    "n = int(input())\n",
    "tree = [[None, set()] for _ in range(n)]\n",
    "i_root_tree = None\n",
    "for i, parent in enumerate(map(int, input().split())):\n",
    "    if parent == -1 : i_root_tree = i\n",
    "    else: tree[parent][1].add(i)\n",
    "    tree[i][0] = parent\n",
    "\n",
    "i_delete_node = int(input())\n",
    "parent_of_delete = tree[i_delete_node][0]\n",
    "if parent_of_delete == -1:\n",
    "    tree[i_delete_node][1] = set()\n",
    "    print(0)\n",
    "    exit()\n",
    "else:\n",
    "    tree[parent_of_delete][1].remove(i_delete_node)\n",
    "\n",
    "from collections import deque\n",
    "#print(i_root_tree)\n",
    "q = deque()\n",
    "q.append(i_root_tree)\n",
    "leaf_node = []\n",
    "while len(q) > 0:\n",
    "    iter = q.popleft()\n",
    "    if len(tree[iter][1]) == 0:\n",
    "        leaf_node.append(iter)\n",
    "    for child in list(tree[iter][1]):\n",
    "        q.append(child)\n",
    "print(len(leaf_node))\n"
   ]
  },
  {
   "cell_type": "code",
   "execution_count": 7,
   "metadata": {},
   "outputs": [
    {
     "name": "stdout",
     "output_type": "stream",
     "text": [
      "140725962283480\n",
      "140725962283512\n",
      "3 1\n"
     ]
    },
    {
     "ename": "",
     "evalue": "",
     "output_type": "error",
     "traceback": [
      "\u001b[1;31mThe Kernel crashed while executing code in the current cell or a previous cell. \n",
      "\u001b[1;31mPlease review the code in the cell(s) to identify a possible cause of the failure. \n",
      "\u001b[1;31mClick <a href='https://aka.ms/vscodeJupyterKernelCrash'>here</a> for more info. \n",
      "\u001b[1;31mView Jupyter <a href='command:jupyter.viewOutput'>log</a> for further details."
     ]
    }
   ],
   "source": [
    "a = 2\n",
    "print(id(a))\n",
    "b = a\n",
    "a+=1\n",
    "b-=1\n",
    "print(id(a))\n",
    "print(a, b) # b: 2"
   ]
  }
 ],
 "metadata": {
  "kernelspec": {
   "display_name": "Python 3",
   "language": "python",
   "name": "python3"
  },
  "language_info": {
   "codemirror_mode": {
    "name": "ipython",
    "version": 3
   },
   "file_extension": ".py",
   "mimetype": "text/x-python",
   "name": "python",
   "nbconvert_exporter": "python",
   "pygments_lexer": "ipython3",
   "version": "3.12.3"
  }
 },
 "nbformat": 4,
 "nbformat_minor": 2
}
