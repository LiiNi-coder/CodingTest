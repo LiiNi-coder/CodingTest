{
 "cells": [
  {
   "cell_type": "markdown",
   "metadata": {},
   "source": [
    "# [투포인터](https://github.com/tony9402/baekjoon/tree/main/two_pointer)"
   ]
  },
  {
   "cell_type": "markdown",
   "metadata": {},
   "source": [
    "## 20922 겹치는 건 싫어\n",
    "### 실버1\n",
    "[백준문제](https://www.acmicpc.net/problem/20922)"
   ]
  },
  {
   "cell_type": "code",
   "execution_count": 10,
   "metadata": {},
   "outputs": [
    {
     "name": "stdout",
     "output_type": "stream",
     "text": [
      "[(0, 6), (6, 10)]\n",
      "6\n"
     ]
    },
    {
     "ename": "",
     "evalue": "",
     "output_type": "error",
     "traceback": [
      "\u001b[1;31mThe Kernel crashed while executing code in the current cell or a previous cell. \n",
      "\u001b[1;31mPlease review the code in the cell(s) to identify a possible cause of the failure. \n",
      "\u001b[1;31mClick <a href='https://aka.ms/vscodeJupyterKernelCrash'>here</a> for more info. \n",
      "\u001b[1;31mView Jupyter <a href='command:jupyter.viewOutput'>log</a> for further details."
     ]
    }
   ],
   "source": [
    "\n",
    "n, k = map(int, input().split())\n",
    "arr = tuple(map(int, input().split()))\n",
    "sub_arr_count = {}\n",
    "#투포인터\n",
    "i_l, i_r = 0, 1\n",
    "candidates_msa = []\n",
    "while i_r <= n:\n",
    "    if arr[i_r - 1] not in sub_arr_count:\n",
    "        sub_arr_count[arr[i_r - 1]] = 0\n",
    "    sub_arr_count[arr[i_r-1]] += 1\n",
    "    now_count = sub_arr_count[arr[i_r-1]]\n",
    "    if now_count > k:\n",
    "        candidates_msa.append((i_l, i_r-1))\n",
    "        #이제 i_l을 움직여 sub_arr_count[arr[i_r-1]]을 k-1로 맞춰주도록한다.\n",
    "        while True:\n",
    "            sub_arr_count[arr[i_l]] -= 1\n",
    "            i_l += 1\n",
    "            if arr[i_l - 1] == arr[i_r - 1]:\n",
    "                break\n",
    "    i_r += 1\n",
    "candidates_msa.append((i_l, i_r-1))\n",
    "print(max(map(lambda x: x[1]-x[0], candidates_msa)))"
   ]
  }
 ],
 "metadata": {
  "kernelspec": {
   "display_name": "Python 3",
   "language": "python",
   "name": "python3"
  },
  "language_info": {
   "codemirror_mode": {
    "name": "ipython",
    "version": 3
   },
   "file_extension": ".py",
   "mimetype": "text/x-python",
   "name": "python",
   "nbconvert_exporter": "python",
   "pygments_lexer": "ipython3",
   "version": "3.12.3"
  }
 },
 "nbformat": 4,
 "nbformat_minor": 2
}
