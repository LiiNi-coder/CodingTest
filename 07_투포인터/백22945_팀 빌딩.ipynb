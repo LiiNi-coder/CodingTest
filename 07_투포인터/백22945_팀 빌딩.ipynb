{
 "cells": [
  {
   "cell_type": "code",
   "execution_count": 6,
   "metadata": {},
   "outputs": [
    {
     "name": "stdout",
     "output_type": "stream",
     "text": [
      "4\n"
     ]
    }
   ],
   "source": [
    "N = int(input())\n",
    "exps = list(map(int, input().split()))\n",
    "from itertools import combinations\n",
    "answer = 0\n",
    "for l, r in combinations(range(N), r=2):\n",
    "    value = (r-l-1)*min(exps[l], exps[r])\n",
    "    if answer < value: answer = value\n",
    "print(answer)"
   ]
  },
  {
   "cell_type": "markdown",
   "metadata": {},
   "source": [
    "위는 `O(N^2)`으로 시간초과\n",
    "투포인터를 생각할 때 반드시 `양옆`도 생각하자!"
   ]
  },
  {
   "cell_type": "code",
   "execution_count": 7,
   "metadata": {},
   "outputs": [
    {
     "name": "stdout",
     "output_type": "stream",
     "text": [
      "4\n"
     ]
    }
   ],
   "source": [
    "N = int(input())\n",
    "exps = list(map(int, input().split()))\n",
    "l, r = 0, N-1\n",
    "answer = 0\n",
    "while l<r:\n",
    "    value = (r - l - 1)*min(exps[l], exps[r])\n",
    "    if answer < value : answer = value\n",
    "    if exps[l] < exps[r]: l+=1\n",
    "    else: r-=1\n",
    "print(answer)\n",
    "        "
   ]
  }
 ],
 "metadata": {
  "kernelspec": {
   "display_name": "Python 3",
   "language": "python",
   "name": "python3"
  },
  "language_info": {
   "codemirror_mode": {
    "name": "ipython",
    "version": 3
   },
   "file_extension": ".py",
   "mimetype": "text/x-python",
   "name": "python",
   "nbconvert_exporter": "python",
   "pygments_lexer": "ipython3",
   "version": "3.12.3"
  }
 },
 "nbformat": 4,
 "nbformat_minor": 2
}
