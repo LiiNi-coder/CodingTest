{
 "cells": [
  {
   "cell_type": "markdown",
   "metadata": {},
   "source": [
    "## 14891 톱니바퀴\n",
    "### 골드5\n",
    "[백준문제](https://acmicpc.net/problem/14891)"
   ]
  },
  {
   "cell_type": "code",
   "execution_count": 14,
   "metadata": {},
   "outputs": [],
   "source": [
    "poles_wheels = []\n",
    "for i in range(4):\n",
    "    poles_wheels.append(list(map(int, input())))\n",
    "k = int(input())\n",
    "commands = []\n",
    "for i in range(k):\n",
    "    temp = list(map(int, input().split()))\n",
    "    temp[0] -= 1\n",
    "    commands.append(temp)\n",
    "\n",
    "def getRotate(target, previous, previous_rotate):\n",
    "    if target < previous:\n",
    "        temp = (2, 6)\n",
    "    else:\n",
    "        temp = (6, 2)\n",
    "    #print(target, previous, temp)\n",
    "    if poles_wheels[target][temp[0]] == poles_wheels[previous][temp[1]]:\n",
    "        return 0\n",
    "    else:\n",
    "        return -previous_rotate\n",
    "for first_wheel, first_direction in commands:\n",
    "    rotates = [0]*4\n",
    "    rotates[first_wheel] = first_direction\n",
    "    for il in range(first_wheel-1, -1, -1):\n",
    "        #print(il)\n",
    "        temp = getRotate(il, il+1, rotates[il+1])\n",
    "        if temp == 0:\n",
    "            break\n",
    "        rotates[il] = temp\n",
    "    for ir in range(first_wheel+1, 4, 1):\n",
    "        #print(ir)\n",
    "        temp = getRotate(ir, ir-1, rotates[ir-1])\n",
    "        if temp == 0:\n",
    "            break\n",
    "        rotates[ir] = temp\n",
    "    for i in range(4):\n",
    "        if rotates[i] == 0:\n",
    "            continue\n",
    "        elif rotates[i] == 1:\n",
    "            temp = [poles_wheels[i][7]] + poles_wheels[i][:7]\n",
    "        elif rotates[i] == -1:\n",
    "            temp = poles_wheels[i][1:8] + [poles_wheels[i][0]]\n",
    "        poles_wheels[i] = temp     \n",
    "answer = 0\n",
    "for i in range(4):\n",
    "    if poles_wheels[i][0] == 1:\n",
    "        answer+=2**i\n",
    "print(answer)\n",
    "\n"
   ]
  },
  {
   "cell_type": "markdown",
   "metadata": {},
   "source": [
    "# 1시간 걸림\n",
    "제발 \n",
    "```\n",
    "10101111\n",
    "01111101\n",
    "11001110\n",
    "00000010\n",
    "2\n",
    "3 -1\n",
    "1 1\n",
    "```\n",
    "같은 거 받을 때 `[[10101111], ...]`되도록 하는 실수하지말자\n",
    "`[1, 0, 1, 0, 1, 1, 1, 1], ...]`이렇게 되도록 하자"
   ]
  },
  {
   "cell_type": "code",
   "execution_count": 5,
   "metadata": {},
   "outputs": [
    {
     "name": "stdout",
     "output_type": "stream",
     "text": [
      "[[0]]\n"
     ]
    }
   ],
   "source": []
  },
  {
   "cell_type": "markdown",
   "metadata": {},
   "source": []
  }
 ],
 "metadata": {
  "kernelspec": {
   "display_name": "Python 3",
   "language": "python",
   "name": "python3"
  },
  "language_info": {
   "codemirror_mode": {
    "name": "ipython",
    "version": 3
   },
   "file_extension": ".py",
   "mimetype": "text/x-python",
   "name": "python",
   "nbconvert_exporter": "python",
   "pygments_lexer": "ipython3",
   "version": "3.12.3"
  }
 },
 "nbformat": 4,
 "nbformat_minor": 2
}
