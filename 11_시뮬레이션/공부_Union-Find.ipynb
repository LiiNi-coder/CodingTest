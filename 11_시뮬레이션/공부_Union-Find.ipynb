{
 "cells": [
  {
   "cell_type": "markdown",
   "metadata": {},
   "source": [
    "## Union-Find\n",
    "### 아래는 Quick Union방법\n",
    "`Quick Union` : Connected component를 tree로 봄  \n",
    "ids[i] : 객체 i의 parent\n",
    "만약 객체 i가 root라면 ids[i] = i\n",
    "connected(p, q) == True if root(p) == root(q)\n",
    "root(i) = ids[ids[... ids[i]]]\n",
    "union(p, q): root(p)를 root(q)아래로 붙이기"
   ]
  },
  {
   "cell_type": "code",
   "execution_count": null,
   "metadata": {},
   "outputs": [],
   "source": [
    "from collections import defaultdict\n",
    "class UF:\n",
    "    def __init__(self, maps, edges):\n",
    "        assert(isinstance(maps[0], list))\n",
    "        maps_1d = []\n",
    "        self.N = len(maps)\n",
    "        for row in maps:\n",
    "            maps_1d.extend(row)\n",
    "        edges_1d = []\n",
    "        for edge in edges:\n",
    "            edges_1d.append(self.convertEdge2dTo1d(edge))\n",
    "        self.maps = maps_1d\n",
    "        self.edges = edges_1d\n",
    "        self.ids = [i for i in range(len(self.maps))]\n",
    "        self.components = defaultdict(list)\n",
    "        print(self.maps, self.edges)\n",
    "        for edge in self.edges:\n",
    "            self.union(edge[0], edge[1])\n",
    "        for i in range(len(self.ids)):\n",
    "            self.components[self.getRoot(i)].append(i)\n",
    "    def print(self):\n",
    "        return print(self.components)\n",
    "    def convertEdge2dTo1d(self, edge):\n",
    "        return (edge[0][0]*self.N + edge[0][1], edge[1][0]*self.N + edge[1][1])\n",
    "    def getRoot(self, p):\n",
    "        print(\"getRoot :\", p)\n",
    "        iter = self.ids[p]\n",
    "        while iter != self.ids[iter]:\n",
    "            print(\"iter :\", iter)\n",
    "            iter = self.ids[iter]\n",
    "        return iter\n",
    "    def union(self, p, q):\n",
    "        print(\"union :\", p, q)\n",
    "        self.ids[self.getRoot(p)] = self.getRoot(q)"
   ]
  },
  {
   "cell_type": "code",
   "execution_count": null,
   "metadata": {},
   "outputs": [],
   "source": [
    "edges = [((0, 0), (0, 1)), ((0, 1), (0, 2)), ((1, 0), (1, 1)), ((1, 1), (1, 2)), ((0, 0), (1, 0)), ((1, 1), (2, 1)), ((0, 2), (1, 2))]\n",
    "maps = [[10, 15, 20], [20, 30, 25], [40, 22, 10]]\n",
    "uf = UF(maps, edges)\n",
    "uf.print()"
   ]
  }
 ],
 "metadata": {
  "language_info": {
   "name": "python"
  }
 },
 "nbformat": 4,
 "nbformat_minor": 2
}
