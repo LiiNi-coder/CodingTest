{
 "cells": [
  {
   "cell_type": "markdown",
   "metadata": {},
   "source": [
    "# [시뮬레이션](https://github.com/tony9402/baekjoon/tree/main/simulation)\n",
    "시뮬레이션이란 빡구현을 말하는 것"
   ]
  },
  {
   "cell_type": "markdown",
   "metadata": {},
   "source": [
    "## 16234 인구 이동\n",
    "### 골드5\n",
    "[백준문제](https://acmicpc.net/problem/16234)"
   ]
  },
  {
   "cell_type": "code",
   "execution_count": 54,
   "metadata": {},
   "outputs": [
    {
     "name": "stdout",
     "output_type": "stream",
     "text": [
      "1\n"
     ]
    }
   ],
   "source": [
    "N, L, R = map(int, input().split())\n",
    "maps = []\n",
    "for r in range(N):\n",
    "    maps.append(list(map(int, input().split())))\n",
    "\n",
    "edges = []\n",
    "for r in range(N):\n",
    "    for c in range(N-1):\n",
    "        edges.append(((r, c),(r, c+1)))\n",
    "for c in range(N):\n",
    "    for r in range(N-1):\n",
    "        edges.append(((r, c), (r+1, c)))\n",
    "\n",
    "from collections import defaultdict\n",
    "class UF:\n",
    "    def __init__(self, maps, edges):\n",
    "        assert(isinstance(maps[0], list))\n",
    "        maps_1d = []\n",
    "        self.N = len(maps)\n",
    "        for row in maps:\n",
    "            maps_1d.extend(row)\n",
    "        edges_1d = []\n",
    "        for edge in edges:\n",
    "            edges_1d.append(self.convertEdge2dTo1d(edge))\n",
    "        self.maps = maps_1d\n",
    "        self.edges = edges_1d\n",
    "        self.ids = [i for i in range(len(self.maps))]\n",
    "        self.components = defaultdict(list)\n",
    "        #print(self.maps, self.edges)\n",
    "        for edge in self.edges:\n",
    "            self.union(edge[0], edge[1])\n",
    "        for i in range(len(self.ids)):\n",
    "            self.components[self.getRoot(i)].append((i // self.N, i % self.N))\n",
    "    def print(self):\n",
    "        return print(self.components)\n",
    "    def convertEdge2dTo1d(self, edge):\n",
    "        return (edge[0][0]*self.N + edge[0][1], edge[1][0]*self.N + edge[1][1])\n",
    "    def getRoot(self, p):\n",
    "        #print(\"getRoot :\", p)\n",
    "        iter = self.ids[p]\n",
    "        while iter != self.ids[iter]:\n",
    "            #print(\"iter :\", iter)\n",
    "            iter = self.ids[iter]\n",
    "        return iter\n",
    "    def union(self, p, q):\n",
    "        #print(\"union :\", p, q)\n",
    "        self.ids[self.getRoot(p)] = self.getRoot(q)\n",
    "\n",
    "# 1일차에는 모든 lines을 따져야함\n",
    "answer = 0\n",
    "while True:\n",
    "    open_edges = []\n",
    "    for edge in edges:\n",
    "        b1, b2 = edge\n",
    "        distance = abs(maps[b1[0]][b1[1]] - maps[b2[0]][b2[1]])\n",
    "        if L<=distance<=R:\n",
    "            open_edges.append(edge)\n",
    "    if len(open_edges) == 0:\n",
    "        break\n",
    "    \n",
    "    uf = UF(maps, open_edges)\n",
    "    #uf.print()\n",
    "    for childs in uf.components.values():\n",
    "        if len(childs) == 1:\n",
    "            continue\n",
    "        sum_value = 0\n",
    "        for block in childs:\n",
    "            sum_value += maps[block[0]][block[1]]\n",
    "        average = sum_value // len(childs)\n",
    "        for block in childs:\n",
    "            maps[block[0]][block[1]] = average\n",
    "    #print(maps)\n",
    "    answer += 1\n",
    "print(answer)"
   ]
  }
 ],
 "metadata": {
  "kernelspec": {
   "display_name": "Python 3",
   "language": "python",
   "name": "python3"
  },
  "language_info": {
   "codemirror_mode": {
    "name": "ipython",
    "version": 3
   },
   "file_extension": ".py",
   "mimetype": "text/x-python",
   "name": "python",
   "nbconvert_exporter": "python",
   "pygments_lexer": "ipython3",
   "version": "3.12.3"
  }
 },
 "nbformat": 4,
 "nbformat_minor": 2
}
