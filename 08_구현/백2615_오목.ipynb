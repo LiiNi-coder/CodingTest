{
 "cells": [
  {
   "cell_type": "markdown",
   "metadata": {},
   "source": [
    "# [구현](https://github.com/tony9402/baekjoon/tree/main/implementation)"
   ]
  },
  {
   "cell_type": "markdown",
   "metadata": {},
   "source": [
    "## 2615 오목\n",
    "### 실버1\n",
    "[백준문제](https://www.acmicpc.net/problem/2615)"
   ]
  },
  {
   "cell_type": "code",
   "execution_count": null,
   "metadata": {},
   "outputs": [],
   "source": [
    "maps = []\n",
    "n_row = 19\n",
    "for _ in range():\n",
    "    maps.append(list(map(int, input().split())))"
   ]
  },
  {
   "cell_type": "code",
   "execution_count": 11,
   "metadata": {},
   "outputs": [
    {
     "data": {
      "text/plain": [
       "[[0, 0, 0, 0, 0, 0, 0, 0, 0, 0, 0, 0, 0, 0, 0, 0, 0, 0, 0],\n",
       " [0, 0, 0, 0, 0, 0, 0, 0, 0, 0, 0, 0, 0, 0, 0, 0, 0, 0, 0],\n",
       " [0, 1, 2, 0, 0, 2, 2, 2, 1, 0, 0, 0, 0, 0, 0, 0, 0, 0, 0],\n",
       " [0, 0, 1, 2, 0, 0, 0, 0, 1, 0, 0, 0, 0, 0, 0, 0, 0, 0, 0],\n",
       " [0, 0, 0, 1, 2, 0, 0, 0, 0, 0, 0, 0, 0, 0, 0, 0, 0, 0, 0],\n",
       " [0, 0, 0, 0, 1, 2, 2, 0, 0, 0, 0, 0, 0, 0, 0, 0, 0, 0, 0],\n",
       " [0, 0, 1, 1, 0, 1, 0, 0, 0, 0, 0, 0, 0, 0, 0, 0, 0, 0, 0],\n",
       " [0, 0, 0, 0, 0, 0, 2, 1, 0, 0, 0, 0, 0, 0, 0, 0, 0, 0, 0],\n",
       " [0, 0, 0, 0, 0, 0, 0, 0, 0, 0, 0, 0, 0, 0, 0, 0, 0, 0, 0],\n",
       " [0, 0, 0, 0, 0, 0, 0, 0, 0, 0, 0, 0, 0, 0, 0, 0, 0, 0, 0],\n",
       " [0, 0, 0, 0, 0, 0, 0, 0, 0, 0, 0, 0, 0, 0, 0, 0, 0, 0, 0],\n",
       " [0, 0, 0, 0, 0, 0, 0, 0, 0, 0, 0, 0, 0, 0, 0, 0, 0, 0, 0],\n",
       " [0, 0, 0, 0, 0, 0, 0, 0, 0, 0, 0, 0, 0, 0, 0, 0, 0, 0, 0],\n",
       " [0, 0, 0, 0, 0, 0, 0, 0, 0, 0, 0, 0, 0, 0, 0, 0, 0, 0, 0],\n",
       " [0, 0, 0, 0, 0, 0, 0, 0, 0, 0, 0, 0, 0, 0, 0, 0, 0, 0, 0],\n",
       " [0, 0, 0, 0, 0, 0, 0, 0, 0, 0, 0, 0, 0, 0, 0, 0, 0, 0, 0],\n",
       " [0, 0, 0, 0, 0, 0, 0, 0, 0, 0, 0, 0, 0, 0, 0, 0, 0, 0, 0],\n",
       " [0, 0, 0, 0, 0, 0, 0, 0, 0, 0, 0, 0, 0, 0, 0, 0, 0, 0, 0],\n",
       " [0, 0, 0, 0, 0, 0, 0, 0, 0, 0, 0, 0, 0, 0, 0, 0, 0, 0, 0]]"
      ]
     },
     "execution_count": 11,
     "metadata": {},
     "output_type": "execute_result"
    }
   ],
   "source": [
    "raw_input = \"\"\"0 0 0 0 0 0 0 0 0 0 0 0 0 0 0 0 0 0 0\n",
    "0 0 0 0 0 0 0 0 0 0 0 0 0 0 0 0 0 0 0\n",
    "0 1 2 0 0 2 2 2 1 0 0 0 0 0 0 0 0 0 0\n",
    "0 0 1 2 0 0 0 0 1 0 0 0 0 0 0 0 0 0 0\n",
    "0 0 0 1 2 0 0 0 0 0 0 0 0 0 0 0 0 0 0\n",
    "0 0 0 0 1 2 2 0 0 0 0 0 0 0 0 0 0 0 0\n",
    "0 0 1 1 0 1 0 0 0 0 0 0 0 0 0 0 0 0 0\n",
    "0 0 0 0 0 0 2 1 0 0 0 0 0 0 0 0 0 0 0\n",
    "0 0 0 0 0 0 0 0 0 0 0 0 0 0 0 0 0 0 0\n",
    "0 0 0 0 0 0 0 0 0 0 0 0 0 0 0 0 0 0 0\n",
    "0 0 0 0 0 0 0 0 0 0 0 0 0 0 0 0 0 0 0\n",
    "0 0 0 0 0 0 0 0 0 0 0 0 0 0 0 0 0 0 0\n",
    "0 0 0 0 0 0 0 0 0 0 0 0 0 0 0 0 0 0 0\n",
    "0 0 0 0 0 0 0 0 0 0 0 0 0 0 0 0 0 0 0\n",
    "0 0 0 0 0 0 0 0 0 0 0 0 0 0 0 0 0 0 0\n",
    "0 0 0 0 0 0 0 0 0 0 0 0 0 0 0 0 0 0 0\n",
    "0 0 0 0 0 0 0 0 0 0 0 0 0 0 0 0 0 0 0\n",
    "0 0 0 0 0 0 0 0 0 0 0 0 0 0 0 0 0 0 0\n",
    "0 0 0 0 0 0 0 0 0 0 0 0 0 0 0 0 0 0 0\"\"\"\n",
    "maps = []\n",
    "n_row = 19\n",
    "for row in raw_input.split(\"\\n\"):\n",
    "    maps.append(list(map(int, row.split())))\n",
    "maps"
   ]
  },
  {
   "cell_type": "code",
   "execution_count": 30,
   "metadata": {},
   "outputs": [
    {
     "ename": "TypeError",
     "evalue": "range expected at least 1 argument, got 0",
     "output_type": "error",
     "traceback": [
      "\u001b[1;31m---------------------------------------------------------------------------\u001b[0m",
      "\u001b[1;31mTypeError\u001b[0m                                 Traceback (most recent call last)",
      "Cell \u001b[1;32mIn[30], line 3\u001b[0m\n\u001b[0;32m      1\u001b[0m maps \u001b[38;5;241m=\u001b[39m []\n\u001b[0;32m      2\u001b[0m n_row \u001b[38;5;241m=\u001b[39m \u001b[38;5;241m19\u001b[39m\n\u001b[1;32m----> 3\u001b[0m \u001b[38;5;28;01mfor\u001b[39;00m _ \u001b[38;5;129;01min\u001b[39;00m \u001b[38;5;28;43mrange\u001b[39;49m\u001b[43m(\u001b[49m\u001b[43m)\u001b[49m:\n\u001b[0;32m      4\u001b[0m     maps\u001b[38;5;241m.\u001b[39mappend(\u001b[38;5;28mlist\u001b[39m(\u001b[38;5;28mmap\u001b[39m(\u001b[38;5;28mint\u001b[39m, \u001b[38;5;28minput\u001b[39m()\u001b[38;5;241m.\u001b[39msplit())))\n\u001b[0;32m      6\u001b[0m blacks \u001b[38;5;241m=\u001b[39m {}\n",
      "\u001b[1;31mTypeError\u001b[0m: range expected at least 1 argument, got 0"
     ]
    }
   ],
   "source": [
    "maps = []\n",
    "n_row = 19\n",
    "for _ in range(n_row):\n",
    "    maps.append(list(map(int, input().split())))\n",
    "\n",
    "blacks = {}\n",
    "whites = {}\n",
    "for r in range(n_row):\n",
    "    for c in range(n_row):\n",
    "        if maps[r][c] == 1:\n",
    "            blacks[(r, c)] = [False, False, False, False]\n",
    "        elif maps[r][c] == 2:\n",
    "            whites[(r, c)] = [False, False, False, False]\n",
    "\n",
    "ds = (((0, 1), (0, -1)), ((1, 0), (-1, 0)), ((-1, 1),(1, -1)), ((1, 1),(-1, -1)))\n",
    "\n",
    "def getMostLeftStone(stones):\n",
    "    min_c = min(stones, key=lambda x: x[1])[1]\n",
    "    candidates = []\n",
    "    for stone in stones:\n",
    "        if stone[1] == min_c:\n",
    "            candidates.append(stone)\n",
    "    return (min(candidates, key=lambda x: x[0])[0], min_c)\n",
    "\n",
    "answer = []\n",
    "def getOmok(stones, stone_value):\n",
    "    for coords, direction_visiteds in stones.items():\n",
    "        for id, direction_visited in enumerate(direction_visiteds):\n",
    "            if direction_visited:\n",
    "                continue\n",
    "            candidate_stones = [coords]\n",
    "            stones[coords][id] = True\n",
    "            for dr, dc in ds[id]:\n",
    "                r, c= coords\n",
    "                while True:\n",
    "                    r = r+dr\n",
    "                    c = c+dc\n",
    "                    if r >= n_row or r<0 or c>= n_row or c<0:\n",
    "                        break\n",
    "                    if maps[r][c] != stone_value:\n",
    "                        break\n",
    "                    if stones[(r, c)][id] == True:\n",
    "                        break\n",
    "                    candidate_stones.append((r, c))\n",
    "                    stones[(r, c)][id] = True\n",
    "            if len(candidate_stones) == 5:\n",
    "                answer.append((stone_value, getMostLeftStone(candidate_stones)))\n",
    "\n",
    "getOmok(blacks, 1)\n",
    "getOmok(whites, 2)\n",
    "\n",
    "if len(answer) == 0:\n",
    "    print(0)\n",
    "else:\n",
    "    print(answer[0][0])\n",
    "    print(*map(lambda x: x+1, answer[0][1]))\n"
   ]
  },
  {
   "cell_type": "code",
   "execution_count": 26,
   "metadata": {},
   "outputs": [
    {
     "name": "stdout",
     "output_type": "stream",
     "text": [
      "1 3\n"
     ]
    }
   ],
   "source": [
    "print(*(1, 3))"
   ]
  }
 ],
 "metadata": {
  "kernelspec": {
   "display_name": "Python 3",
   "language": "python",
   "name": "python3"
  },
  "language_info": {
   "codemirror_mode": {
    "name": "ipython",
    "version": 3
   },
   "file_extension": ".py",
   "mimetype": "text/x-python",
   "name": "python",
   "nbconvert_exporter": "python",
   "pygments_lexer": "ipython3",
   "version": "3.12.3"
  }
 },
 "nbformat": 4,
 "nbformat_minor": 2
}
