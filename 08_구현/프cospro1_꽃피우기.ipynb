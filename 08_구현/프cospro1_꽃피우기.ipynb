{
 "cells": [
  {
   "cell_type": "markdown",
   "metadata": {},
   "source": [
    "https://school.programmers.co.kr/learn/courses/11133/lessons/71165"
   ]
  },
  {
   "cell_type": "markdown",
   "metadata": {},
   "source": [
    "이상하게 너무 오래 걸린 문제.\n",
    "bfs의 한 루틴을 하루라고 속단해버린 문제."
   ]
  },
  {
   "cell_type": "code",
   "execution_count": null,
   "metadata": {},
   "outputs": [],
   "source": [
    "# 다음과 같이 import를 사용할 수 있습니다.\n",
    "# import math\n",
    "from collections import deque \n",
    "def solution(garden):\n",
    "    q = deque()\n",
    "    answer = 0\n",
    "    n_unbloom = len(garden) * len(garden[0])\n",
    "    # 여기에 코드를 작성해주세요.\n",
    "    for r in range(0, len(garden)):\n",
    "        for c in range(0, len(garden[0])):\n",
    "            if garden[r][c] == 1:\n",
    "                q.append((r, c))\n",
    "                n_unbloom -=1\n",
    "    while True:\n",
    "        if n_unbloom == 0:\n",
    "            break\n",
    "        now_blooms = deque()\n",
    "        while len(q) != 0:\n",
    "            r, c = q.popleft()\n",
    "            for dr, dc in zip([-1, 0, 1, 0], [0, 1, 0, -1]):\n",
    "                nr, nc = r+dr, c+dc\n",
    "                if 0<=nr<len(garden) and 0<=nc<len(garden[0]):\n",
    "                    if garden[nr][nc] == 0:\n",
    "                        now_blooms.append((nr, nc))\n",
    "                        garden[nr][nc] = 1\n",
    "                        n_unbloom -= 1\n",
    "        answer+=1\n",
    "        q = now_blooms\n",
    "\n",
    "    return answer\n",
    "\n",
    "# 아래는 테스트케이스 출력을 해보기 위한 코드입니다.\n",
    "garden1 = [[0, 0, 0], [0, 1, 0], [0, 0, 0]]\n",
    "ret1 = solution(garden1)\n",
    "\n",
    "# [실행] 버튼을 누르면 출력 값을 볼 수 있습니다.\n",
    "print(\"solution 함수의 반환 값은\", ret1, \"입니다.\")\n",
    "\n",
    "garden2 = [[1, 1], [1, 1]]\n",
    "ret2 = solution(garden2)\n",
    "\n",
    "# [실행] 버튼을 누르면 출력 값을 볼 수 있습니다.\n",
    "print(\"solution 함수의 반환 값은\", ret2, \"입니다.\")"
   ]
  }
 ],
 "metadata": {
  "language_info": {
   "name": "python"
  }
 },
 "nbformat": 4,
 "nbformat_minor": 2
}
