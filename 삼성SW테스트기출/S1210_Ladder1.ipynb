{
 "cells": [
  {
   "cell_type": "code",
   "execution_count": 11,
   "metadata": {},
   "outputs": [
    {
     "name": "stdout",
     "output_type": "stream",
     "text": [
      "#1 67\n",
      "#2 45\n",
      "#3 39\n",
      "#4 24\n",
      "#5 91\n",
      "#6 93\n",
      "#7 90\n",
      "#8 4\n",
      "#9 99\n",
      "#10 35\n"
     ]
    }
   ],
   "source": [
    "fp = open(\"input.txt\")\n",
    "lines = list(map(lambda x:x.rstrip(), fp.readlines()))\n",
    "index = 0\n",
    "\n",
    "T = 10\n",
    "N = 100\n",
    "\n",
    "def getHorizonRoad(maps, r, c):\n",
    "    if c >= 1 and maps[r][c-1] == 1:\n",
    "        return -1\n",
    "    elif c< N-1 and maps[r][c+1] == 1:\n",
    "        return 1\n",
    "    else:\n",
    "        return 0\n",
    "\n",
    "for test_case in range(1, T+1):\n",
    "    \n",
    "    t = lines[index]\n",
    "    index+=1\n",
    "    \n",
    "    maps = []\n",
    "    for _ in range(N):\n",
    "        maps.append(list(map(int, list(lines[index].split()))))\n",
    "        index+=1\n",
    "    \n",
    "    start = (N-1, maps[-1].index(2))\n",
    "\n",
    "    r, c = start[0], start[1]\n",
    "    while r >= 0:\n",
    "        #print(r, c)\n",
    "        dc = getHorizonRoad(maps, r, c)\n",
    "        if dc != 0:\n",
    "            while True:\n",
    "                new_c = c + dc\n",
    "                if new_c < 0 or new_c >= N or maps[r][new_c] == 0:\n",
    "                    break\n",
    "                c = new_c\n",
    "        r -= 1\n",
    "    print(f\"#{test_case} {c}\")\n",
    "\n",
    "\n",
    "    "
   ]
  }
 ],
 "metadata": {
  "kernelspec": {
   "display_name": "Python 3",
   "language": "python",
   "name": "python3"
  },
  "language_info": {
   "codemirror_mode": {
    "name": "ipython",
    "version": 3
   },
   "file_extension": ".py",
   "mimetype": "text/x-python",
   "name": "python",
   "nbconvert_exporter": "python",
   "pygments_lexer": "ipython3",
   "version": "3.13.0"
  }
 },
 "nbformat": 4,
 "nbformat_minor": 2
}
