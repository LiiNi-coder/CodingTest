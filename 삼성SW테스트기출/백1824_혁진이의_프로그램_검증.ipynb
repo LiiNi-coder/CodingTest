{
 "cells": [
  {
   "cell_type": "code",
   "execution_count": null,
   "metadata": {},
   "outputs": [],
   "source": [
    "[][] : (메모리값, )"
   ]
  },
  {
   "cell_type": "code",
   "execution_count": null,
   "metadata": {},
   "outputs": [
    {
     "name": "stdout",
     "output_type": "stream",
     "text": [
      "#1 NO\n"
     ]
    }
   ],
   "source": [
    "from collections import deque\n",
    "T = int(input())\n",
    "\n",
    "drdcs = ((0, 1), (1, 0), (0, -1), (-1, 0))\n",
    "\n",
    "def getChar(maps, points):\n",
    "    return maps[points[0]][points[1]]\n",
    "def getNextPoints(maps, points, heading):\n",
    "    results = []\n",
    "    nms = (len(maps), len(maps[0]))\n",
    "    for i in range(2):\n",
    "        temp = points[i] + drdcs[heading][i]\n",
    "        if temp < 0: temp = nms[i] - 1\n",
    "        elif temp >= nms[i] : temp = 0\n",
    "        results.append(temp)\n",
    "    return tuple(results)\n",
    "for test_case in range(1, T+1):\n",
    "    r, c = map(int, input().split())\n",
    "    maps = []\n",
    "    for _ in range(r):\n",
    "        maps.append(list(input()))\n",
    "    \n",
    "    start = (0, 0)\n",
    "    is_reach_at_end = False\n",
    "    dp = {}\n",
    "    q = deque()\n",
    "    q.append((start, 0, 0)) # (좌표, 좌표에 도착하였을때의 방향, 좌표에 도착하였을때의 메모리값)\n",
    "    while(len(q)>0):\n",
    "        nows = q.popleft()\n",
    "        points, heading, memory = nows\n",
    "        print(nows)\n",
    "        print(q)\n",
    "        if points not in dp:\n",
    "            dp[points] = set()\n",
    "        if nows not in dp[points]:\n",
    "            dp[points].add(nows)\n",
    "            \n",
    "            char = getChar(maps, points)\n",
    "            if char == \"?\":\n",
    "                for i in range(4):\n",
    "                    q.append((getNextPoints(maps, points, i), i, memory))\n",
    "            elif char == \">\":\n",
    "                heading = 0\n",
    "            elif char == \"<\":\n",
    "                heading = 2\n",
    "            elif char == \"^\":\n",
    "                heading = 3\n",
    "            elif char == \"v\":\n",
    "                heading = 1\n",
    "            elif char == \"_\":\n",
    "                heading = 0 if memory == \"0\" else 2\n",
    "            elif char ==\"|\":\n",
    "                heading = 1 if memory == \"0\" else 3\n",
    "            elif char == \"@\":\n",
    "                is_reach_at_end = True\n",
    "                break\n",
    "            elif char.isdigit():\n",
    "                memory = char\n",
    "            q.append((getNextPoints(maps, points, heading), heading, memory))\n",
    "        else:\n",
    "            continue\n",
    "    if is_reach_at_end:\n",
    "        print(f\"#{test_case} YES\")\n",
    "    else:\n",
    "        print(f\"#{test_case} NO\")"
   ]
  }
 ],
 "metadata": {
  "kernelspec": {
   "display_name": "Python 3",
   "language": "python",
   "name": "python3"
  },
  "language_info": {
   "codemirror_mode": {
    "name": "ipython",
    "version": 3
   },
   "file_extension": ".py",
   "mimetype": "text/x-python",
   "name": "python",
   "nbconvert_exporter": "python",
   "pygments_lexer": "ipython3",
   "version": "3.13.0"
  }
 },
 "nbformat": 4,
 "nbformat_minor": 2
}
