{
 "cells": [
  {
   "cell_type": "code",
   "execution_count": null,
   "metadata": {},
   "outputs": [
    {
     "name": "stdout",
     "output_type": "stream",
     "text": [
      "2\n",
      "2\n",
      "8\n",
      "57\n",
      "151\n",
      "257\n",
      "18\n",
      "160\n",
      "414\n",
      "395\n"
     ]
    }
   ],
   "source": [
    "import heapq\n",
    "\n",
    "T = int(input())\n",
    "\n",
    "start = (0, 0)\n",
    "for test_case in range(1, T + 1):\n",
    "    N = int(input())\n",
    "    maps = []\n",
    "    for _ in range(N):\n",
    "        maps.append(list(map(int, list(input()))))\n",
    "    \n",
    "    distances = [[float(\"inf\")]*N for _ in range(N)]\n",
    "    q = []\n",
    "    heapq.heappush(q, (0, start))\n",
    "    while(len(q)>0):\n",
    "        current_distances, current_points = heapq.heappop(q)\n",
    "        if current_points == (N-1, N-1):\n",
    "            continue\n",
    "        if current_distances > distances[current_points[0]][current_points[1]]:\n",
    "            continue\n",
    "        for dr, dc in ((0, 1), (1, 0), (0, -1), (-1, 0)):\n",
    "            new_points = (current_points[0] + dr, current_points[1] + dc)\n",
    "            if not(0<=new_points[0]<N and 0<=new_points[1]<N):\n",
    "                continue\n",
    "            new_distances = current_distances + maps[new_points[0]][new_points[1]]\n",
    "            if new_distances < distances[new_points[0]][new_points[1]]:\n",
    "                distances[new_points[0]][new_points[1]] = new_distances\n",
    "                heapq.heappush(q, (new_distances, new_points))\n",
    "    print(f\"#{T} {distances[N-1][N-1]}\")"
   ]
  }
 ],
 "metadata": {
  "kernelspec": {
   "display_name": "Python 3",
   "language": "python",
   "name": "python3"
  },
  "language_info": {
   "codemirror_mode": {
    "name": "ipython",
    "version": 3
   },
   "file_extension": ".py",
   "mimetype": "text/x-python",
   "name": "python",
   "nbconvert_exporter": "python",
   "pygments_lexer": "ipython3",
   "version": "3.13.0"
  }
 },
 "nbformat": 4,
 "nbformat_minor": 2
}
