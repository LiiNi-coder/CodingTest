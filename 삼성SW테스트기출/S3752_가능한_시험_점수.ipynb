{
 "cells": [
  {
   "cell_type": "code",
   "execution_count": null,
   "metadata": {},
   "outputs": [
    {
     "name": "stdout",
     "output_type": "stream",
     "text": [
      "35\n"
     ]
    }
   ],
   "source": [
    "def combinations(arr, r):\n",
    "    visited = [False]*len(arr)\n",
    "    results = []\n",
    "    def recur(_arr, _idx):\n",
    "        if len(_arr) == r:\n",
    "            results.append(_arr)\n",
    "            return\n",
    "        for i in range(_idx, len(arr)):\n",
    "            recur(_arr + [arr[i]], i+1)\n",
    "    recur([], 0)\n",
    "    return results\n",
    "print(len(combinations([1, 2, 3, 4, 5], 3)))"
   ]
  },
  {
   "cell_type": "code",
   "execution_count": null,
   "metadata": {},
   "outputs": [],
   "source": []
  }
 ],
 "metadata": {
  "kernelspec": {
   "display_name": "Python 3",
   "language": "python",
   "name": "python3"
  },
  "language_info": {
   "codemirror_mode": {
    "name": "ipython",
    "version": 3
   },
   "file_extension": ".py",
   "mimetype": "text/x-python",
   "name": "python",
   "nbconvert_exporter": "python",
   "pygments_lexer": "ipython3",
   "version": "3.13.0"
  }
 },
 "nbformat": 4,
 "nbformat_minor": 2
}
