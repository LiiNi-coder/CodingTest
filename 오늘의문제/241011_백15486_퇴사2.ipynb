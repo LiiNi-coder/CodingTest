{
 "cells": [
  {
   "cell_type": "markdown",
   "metadata": {},
   "source": [
    "[백준링크](https://www.acmicpc.net/problem/15486)"
   ]
  },
  {
   "cell_type": "code",
   "execution_count": 15,
   "metadata": {},
   "outputs": [
    {
     "name": "stdout",
     "output_type": "stream",
     "text": [
      "55\n"
     ]
    }
   ],
   "source": [
    "import sys\n",
    "#input = sys.stdin.readline\n",
    "N = int(input().rstrip())\n",
    "Ts = []\n",
    "Ps = []\n",
    "for _ in range(N):\n",
    "    tokens = input().rstrip().split()\n",
    "    Ts.append(int(tokens[0]))\n",
    "    Ps.append(int(tokens[1]))\n",
    "\n",
    "dp = {}\n",
    "from collections import deque\n",
    "q = deque()\n",
    "q.append((0, 0))\n",
    "answers = set()\n",
    "while len(q) > 0:\n",
    "    #print(\"===\")\n",
    "    #print(q)\n",
    "    i, s = q.popleft()\n",
    "    #print(i, s)\n",
    "    if i+Ts[i]<=N:\n",
    "        answers.add(s+Ps[i])\n",
    "    if i not in dp:\n",
    "        dp[i] = s\n",
    "    else:\n",
    "        if s < dp[i]:\n",
    "            continue\n",
    "        else:\n",
    "            dp[i] = s\n",
    "    if i >= N:\n",
    "        answers.append(s)\n",
    "        continue\n",
    "    over_flag = False\n",
    "    while Ts[i] == 1:\n",
    "        s += Ps[i]\n",
    "        i+=1\n",
    "        if i >= N:\n",
    "            over_flag = True\n",
    "            break\n",
    "    if over_flag:\n",
    "        answers.add(s)\n",
    "        continue\n",
    "    if i + Ts[i] < N:\n",
    "        q.append((i + Ts[i], s+Ps[i]))\n",
    "    for ii in range(i+1, i+Ts[i]):\n",
    "        if ii < N:\n",
    "            q.append((ii, s))\n",
    "print(max(answers))"
   ]
  },
  {
   "cell_type": "markdown",
   "metadata": {},
   "source": [
    "1시간걸려서 풀어도 시간초과...\n",
    "확인결과 이 문제는 DP로 푸는 것이다.\n",
    "[풀이 블로그](https://velog.io/@sunkyuj/python-%EB%B0%B1%EC%A4%80-15486-%ED%87%B4%EC%82%AC-2)"
   ]
  },
  {
   "cell_type": "code",
   "execution_count": 9,
   "metadata": {},
   "outputs": [
    {
     "name": "stdout",
     "output_type": "stream",
     "text": [
      "20\n"
     ]
    }
   ],
   "source": [
    "import sys\n",
    "#input = sys.stdin.readline\n",
    "N = int(input().rstrip())\n",
    "Ts = []\n",
    "Ps = []\n",
    "for _ in range(N):\n",
    "    tokens = tuple(map(int, input().rstrip().split()))\n",
    "    Ts.append(tokens[0])\n",
    "    Ps.append(tokens[1])\n",
    "\n",
    "dp = [0]*(N)\n",
    "for i in range(N):\n",
    "    previous_max = dp[i-1] if i-1>=0 else 0\n",
    "    candidate_now = previous_max\n",
    "    if Ts[i] == 1:\n",
    "        temp = previous_max + Ps[i]\n",
    "        if temp > dp[i]:\n",
    "            candidate_now = temp\n",
    "    else:\n",
    "        target_day = i + Ts[i] - 1\n",
    "        if target_day < N:\n",
    "            temp = previous_max + Ps[i]\n",
    "            if temp > dp[target_day] : dp[target_day] = temp\n",
    "    if candidate_now > dp[i] : dp[i] = candidate_now\n",
    "print(dp[-1])\n",
    "        "
   ]
  }
 ],
 "metadata": {
  "kernelspec": {
   "display_name": "Python 3",
   "language": "python",
   "name": "python3"
  },
  "language_info": {
   "codemirror_mode": {
    "name": "ipython",
    "version": 3
   },
   "file_extension": ".py",
   "mimetype": "text/x-python",
   "name": "python",
   "nbconvert_exporter": "python",
   "pygments_lexer": "ipython3",
   "version": "3.12.6"
  }
 },
 "nbformat": 4,
 "nbformat_minor": 2
}
