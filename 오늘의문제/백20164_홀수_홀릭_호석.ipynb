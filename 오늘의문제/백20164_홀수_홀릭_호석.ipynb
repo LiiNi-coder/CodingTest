{
 "cells": [
  {
   "cell_type": "markdown",
   "metadata": {},
   "source": [
    "[백준링크](https://www.acmicpc.net/problem/20164)"
   ]
  },
  {
   "cell_type": "code",
   "execution_count": null,
   "metadata": {},
   "outputs": [
    {
     "name": "stdout",
     "output_type": "stream",
     "text": [
      "deque([(514, 0)])\n",
      "deque([(10, 2)])\n",
      "deque([(1, 3)])\n",
      "4 4\n"
     ]
    },
    {
     "ename": "",
     "evalue": "",
     "output_type": "error",
     "traceback": [
      "\u001b[1;31mThe Kernel crashed while executing code in the current cell or a previous cell. \n",
      "\u001b[1;31mPlease review the code in the cell(s) to identify a possible cause of the failure. \n",
      "\u001b[1;31mClick <a href='https://aka.ms/vscodeJupyterKernelCrash'>here</a> for more info. \n",
      "\u001b[1;31mView Jupyter <a href='command:jupyter.viewOutput'>log</a> for further details."
     ]
    }
   ],
   "source": [
    "N = int(input())\n",
    "\n",
    "from itertools import combinations\n",
    "\n",
    "def getSubsN(number, n_parts):\n",
    "    n_str = str(number)\n",
    "    results = []\n",
    "    for inner_is in combinations(range(1, len(n_str)), n_parts-1):\n",
    "        inner_is = list(inner_is)\n",
    "        inner_is.insert(0, 0)\n",
    "        inner_is.append(len(n_str))\n",
    "        temp = []\n",
    "        for i in range(len(inner_is)-1):\n",
    "            temp.append(int(n_str[inner_is[i]:inner_is[i+1]]))\n",
    "        results.append(temp)\n",
    "    return results\n",
    "def getOdd(number):\n",
    "    count = 0\n",
    "    for c in str(number):\n",
    "        if int(c) % 2 == 1:\n",
    "            count+=1\n",
    "    return count\n",
    "from collections import deque\n",
    "answers = []\n",
    "q = deque()\n",
    "q.append((N, 0))\n",
    "while len(q) > 0:\n",
    "    n, count = q.popleft()\n",
    "    n_len = len(str(n))\n",
    "    count += getOdd(n);\n",
    "    if n_len >= 3:\n",
    "        for subs in getSubsN(n, 3):\n",
    "            q.append((sum(subs), count))\n",
    "    elif n_len == 2:\n",
    "        q.append((n//10 + n%10, count))\n",
    "    elif n_len == 1:\n",
    "        answers.append(count)\n",
    "print(min(answers), max(answers))"
   ]
  }
 ],
 "metadata": {
  "kernelspec": {
   "display_name": "Python 3",
   "language": "python",
   "name": "python3"
  },
  "language_info": {
   "codemirror_mode": {
    "name": "ipython",
    "version": 3
   },
   "file_extension": ".py",
   "mimetype": "text/x-python",
   "name": "python",
   "nbconvert_exporter": "python",
   "pygments_lexer": "ipython3",
   "version": "3.13.0"
  }
 },
 "nbformat": 4,
 "nbformat_minor": 2
}
