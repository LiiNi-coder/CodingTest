{
 "cells": [
  {
   "cell_type": "code",
   "execution_count": 48,
   "metadata": {},
   "outputs": [
    {
     "name": "stdout",
     "output_type": "stream",
     "text": [
      "2\n"
     ]
    }
   ],
   "source": [
    "from collections import defaultdict, deque\n",
    "def get2(start):\n",
    "    if start == 0:\n",
    "        return [0]\n",
    "    result = []\n",
    "    i = 1\n",
    "    while start<=100000:\n",
    "        result.append(start)\n",
    "        start *= 2\n",
    "    return result\n",
    "\n",
    "N, K = map(int, input().split())\n",
    "q = deque() #(현재위치, 현재시간)형태\n",
    "for i in get2(N):\n",
    "    q.append((i, 0))\n",
    "visited = set()\n",
    "\n",
    "while(q):\n",
    "    n, t = q.popleft()\n",
    "\n",
    "    if n in visited:\n",
    "        continue\n",
    "    if n<0 or n>100000:\n",
    "        continue\n",
    "    if( n == K):\n",
    "        break\n",
    "    visited.add(n)\n",
    "\n",
    "    for i in get2(n):\n",
    "        q.append((i, t))\n",
    "    for i in get2(n):\n",
    "        q.append((i-1, t+1))\n",
    "        q.append(((i-1)*2, t+1))\n",
    "        q.append(((i+1), t+1))\n",
    "        q.append(((i+1)*2, t+1))\n",
    "print(t)\n",
    "    \n"
   ]
  },
  {
   "cell_type": "code",
   "execution_count": 45,
   "metadata": {},
   "outputs": [
    {
     "data": {
      "text/plain": [
       "[5,\n",
       " 10,\n",
       " 20,\n",
       " 40,\n",
       " 80,\n",
       " 160,\n",
       " 320,\n",
       " 640,\n",
       " 1280,\n",
       " 2560,\n",
       " 5120,\n",
       " 10240,\n",
       " 20480,\n",
       " 40960,\n",
       " 81920]"
      ]
     },
     "execution_count": 45,
     "metadata": {},
     "output_type": "execute_result"
    }
   ],
   "source": [
    "get2(5)"
   ]
  }
 ],
 "metadata": {
  "kernelspec": {
   "display_name": "Python 3",
   "language": "python",
   "name": "python3"
  },
  "language_info": {
   "codemirror_mode": {
    "name": "ipython",
    "version": 3
   },
   "file_extension": ".py",
   "mimetype": "text/x-python",
   "name": "python",
   "nbconvert_exporter": "python",
   "pygments_lexer": "ipython3",
   "version": "3.12.3"
  }
 },
 "nbformat": 4,
 "nbformat_minor": 2
}
