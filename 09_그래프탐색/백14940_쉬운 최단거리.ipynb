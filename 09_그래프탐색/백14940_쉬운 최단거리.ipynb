{
 "cells": [
  {
   "cell_type": "markdown",
   "metadata": {},
   "source": [
    "# [그래프탐색](https://github.com/tony9402/baekjoon/tree/main/implementation)"
   ]
  },
  {
   "cell_type": "markdown",
   "metadata": {},
   "source": [
    "## 14940 쉬운 최단거리\n",
    "### 실버1\n",
    "[백준문제](https://www.acmicpc.net/problem/14940)"
   ]
  },
  {
   "cell_type": "markdown",
   "metadata": {},
   "source": [
    "### dfs 6단계\n",
    "1. 체크인\n",
    "2. 목적지인가\n",
    "3. 연결된 곳을 순회\n",
    "4. 갈 수 있는가\n",
    "5. 간다\n",
    "6. 체크아웃  \n",
    "### bfs 6단계\n",
    "1. q 시작지점 삽입\n",
    "2. q에 원소가 있는 동안 3~6반복\n",
    "3. now = q.popleft()\n",
    "4. now와 연결된 곳 순회\n",
    "5. 갈 수 있는가(map 바운더리 or 방문여부)\n",
    "6. 체크인 & 큐에 넣음"
   ]
  },
  {
   "cell_type": "code",
   "execution_count": 18,
   "metadata": {},
   "outputs": [],
   "source": [
    "n_r, n_c = 15, 15\n",
    "maps = []\n",
    "raw_input = \"\"\"2 1 1 1 1 1 1 1 1 1 1 1 1 1 1\n",
    "1 1 1 1 1 1 1 1 1 1 1 1 1 1 1\n",
    "1 1 1 1 1 1 1 1 1 1 1 1 1 1 1\n",
    "1 1 1 1 1 1 1 1 1 1 1 1 1 1 1\n",
    "1 1 1 1 1 1 1 1 1 1 1 1 1 1 1\n",
    "1 1 1 1 1 1 1 1 1 1 1 1 1 1 1\n",
    "1 1 1 1 1 1 1 1 1 1 1 1 1 1 1\n",
    "1 1 1 1 1 1 1 1 1 1 1 1 1 1 1\n",
    "1 1 1 1 1 1 1 1 1 1 1 1 1 1 1\n",
    "1 1 1 1 1 1 1 1 1 1 1 1 1 1 1\n",
    "1 1 1 1 1 1 1 1 1 1 1 1 1 1 1\n",
    "1 1 1 1 1 1 1 1 1 1 0 0 0 0 0\n",
    "1 1 1 1 1 1 1 1 1 1 0 1 1 1 1\n",
    "1 1 1 1 1 1 1 1 1 1 0 1 0 0 0\n",
    "1 1 1 1 1 1 1 1 1 1 0 1 1 1 1\"\"\"\n",
    "for row in raw_input.split(\"\\n\"):\n",
    "    maps.append(list(map(int, row.split())))\n",
    "start = (0, 0)"
   ]
  },
  {
   "cell_type": "code",
   "execution_count": 22,
   "metadata": {},
   "outputs": [
    {
     "name": "stdout",
     "output_type": "stream",
     "text": [
      "0 1 2 3 4 5 6 7 8 9 10 11 12 13 14\n",
      "1 2 3 4 5 6 7 8 9 10 11 12 13 14 15\n",
      "2 3 4 5 6 7 8 9 10 11 12 13 14 15 16\n",
      "3 4 5 6 7 8 9 10 11 12 13 14 15 16 17\n",
      "4 5 6 7 8 9 10 11 12 13 14 15 16 17 18\n",
      "5 6 7 8 9 10 11 12 13 14 15 16 17 18 19\n",
      "6 7 8 9 10 11 12 13 14 15 16 17 18 19 20\n",
      "7 8 9 10 11 12 13 14 15 16 17 18 19 20 21\n",
      "8 9 10 11 12 13 14 15 16 17 18 19 20 21 22\n",
      "9 10 11 12 13 14 15 16 17 18 19 20 21 22 23\n",
      "10 11 12 13 14 15 16 17 18 19 20 21 22 23 24\n",
      "11 12 13 14 15 16 17 18 19 20 0 0 0 0 0\n",
      "12 13 14 15 16 17 18 19 20 21 0 -1 -1 -1 -1\n",
      "13 14 15 16 17 18 19 20 21 22 0 -1 0 0 0\n",
      "14 15 16 17 18 19 20 21 22 23 0 -1 -1 -1 -1\n"
     ]
    }
   ],
   "source": [
    "n_r, n_c = map(int, input().split())\n",
    "maps = []\n",
    "for r in range(n_r):\n",
    "    temp = list(map(int, input().split()))\n",
    "    for c, value in enumerate(temp):\n",
    "        if value == 2:\n",
    "            start = (r, c)\n",
    "    maps.append(temp)\n",
    "\n",
    "from collections import deque\n",
    "ds = [(1, 0),(0, 1),(-1, 0),(0, -1)]\n",
    "\n",
    "q = deque()\n",
    "q.append(start)\n",
    "visited = [[False for _ in range(n_c)] for _ in range(n_r)]\n",
    "answer = [[-1 for _ in range(n_c)] for _ in range(n_r)]\n",
    "answer[start[0]][start[1]] = 0\n",
    "visited[start[0]][start[1]] = True\n",
    "while len(q) > 0:\n",
    "    r, c = q.popleft()\n",
    "    for dr, dc in ds:\n",
    "        next_r = r+dr\n",
    "        next_c = c+dc\n",
    "        if next_r<0 or next_r>= n_r or next_c<0 or next_c>=n_c:\n",
    "            continue\n",
    "        if visited[next_r][next_c]:\n",
    "            continue\n",
    "        if maps[next_r][next_c] == 0:\n",
    "            continue\n",
    "        answer[next_r][next_c] = answer[r][c] + 1\n",
    "        visited[next_r][next_c] = True\n",
    "        q.append((next_r, next_c))\n",
    "\n",
    "for r in range(n_r):\n",
    "    for c in range(n_c):\n",
    "        if maps[r][c] == 0:\n",
    "            answer[r][c] = 0\n",
    "\n",
    "for row in answer:\n",
    "    print(*row)"
   ]
  },
  {
   "cell_type": "markdown",
   "metadata": {},
   "source": [
    "## 14502 연구소\n",
    "### 골드4\n",
    "[백준문제](https://www.acmicpc.net/problem/14502)"
   ]
  },
  {
   "cell_type": "code",
   "execution_count": 21,
   "metadata": {},
   "outputs": [
    {
     "name": "stdout",
     "output_type": "stream",
     "text": [
      "7 7 [(0, 0), (1, 5)] [[2, 0, 0, 0, 1, 1, 0], [0, 0, 1, 0, 1, 2, 0], [0, 1, 1, 0, 1, 0, 0], [0, 1, 0, 0, 0, 0, 0], [0, 0, 0, 0, 0, 1, 1], [0, 1, 0, 0, 0, 0, 0], [0, 1, 0, 0, 0, 0, 0]] 12\n"
     ]
    }
   ],
   "source": [
    "raw_input = \"\"\"7 7\n",
    "2 0 0 0 1 1 0\n",
    "0 0 1 0 1 2 0\n",
    "0 1 1 0 1 0 0\n",
    "0 1 0 0 0 0 0\n",
    "0 0 0 0 0 1 1\n",
    "0 1 0 0 0 0 0\n",
    "0 1 0 0 0 0 0\"\"\"\n",
    "temp = raw_input.split(\"\\n\")\n",
    "n, m = map(int, temp[0].split())\n",
    "maps = []\n",
    "viruses = []\n",
    "n_wall = 0\n",
    "for r, row in enumerate(temp[1:]):\n",
    "    temp = list(map(int, row.split()))\n",
    "    for c in range(len(temp)):\n",
    "        if temp[c] == 2:\n",
    "            viruses.append((r, c))\n",
    "        if temp[c] == 1:\n",
    "            n_wall += 1\n",
    "    maps.append(temp)\n",
    "\n",
    "print(n, m, viruses, maps, n_wall)"
   ]
  },
  {
   "cell_type": "code",
   "execution_count": 31,
   "metadata": {},
   "outputs": [
    {
     "name": "stdout",
     "output_type": "stream",
     "text": [
      "1\n"
     ]
    }
   ],
   "source": [
    "n, m = map(int,input().split())\n",
    "maps = []\n",
    "viruses = []\n",
    "n_wall = 0\n",
    "for r in range(n):\n",
    "    temp = list(map(int, input().split()))\n",
    "    for c in range(len(temp)):\n",
    "        if temp[c] == 2:\n",
    "            viruses.append((r, c))\n",
    "        if temp[c] == 1:\n",
    "            n_wall += 1\n",
    "    maps.append(temp)\n",
    "\n",
    "def convert1to2(i_1):\n",
    "    return (i_1 // m, i_1 % m)\n",
    "\n",
    "def getCombinations():\n",
    "    combinations = []\n",
    "    maps_vector = []\n",
    "    for row in maps:\n",
    "        maps_vector.extend(row)\n",
    "    for x in range(n*m):\n",
    "        temp = convert1to2(x)\n",
    "        if maps[temp[0]][temp[1]] == 1 or maps[temp[0]][temp[1]] == 2:\n",
    "            continue\n",
    "        for y in range(x+1, n*m):\n",
    "            temp = convert1to2(y)\n",
    "            if maps[temp[0]][temp[1]] == 1 or maps[temp[0]][temp[1]] == 2:\n",
    "                continue\n",
    "            for z in range(y+1, n*m):\n",
    "                temp = convert1to2(z)\n",
    "                if maps[temp[0]][temp[1]] == 1 or maps[temp[0]][temp[1]] == 2:\n",
    "                    continue\n",
    "                combinations.append((convert1to2(x), convert1to2(y), convert1to2(z)))\n",
    "    return combinations\n",
    "from collections import deque\n",
    "\n",
    "answer = {}\n",
    "\n",
    "for walls_added in getCombinations():\n",
    "    # 새로운 벽 반영\n",
    "    for wall in walls_added:\n",
    "        maps[wall[0]][wall[1]] = 1\n",
    "    \n",
    "    # 바이러스가 지나간 칸이면 True\n",
    "    visited = [[False for _ in range(m)] for _ in range(n)]\n",
    "    count = 0\n",
    "    # 바이러스 칸 마다 bfs\n",
    "    q = deque()\n",
    "    for virus in viruses:\n",
    "        q.append(virus)\n",
    "        visited[virus[0]][virus[1]] = True\n",
    "        count += 1\n",
    "    while len(q) > 0:\n",
    "        r, c = q.popleft()\n",
    "        for dr, dc in ((-1, 0), (0, -1), (1, 0), (0, 1)):\n",
    "            next_r = r+ dr\n",
    "            next_c = c+ dc\n",
    "            # map 바운더리 체크\n",
    "            if next_r < 0 or next_r >= n or next_c < 0 or next_c >= m:\n",
    "                continue\n",
    "            # 벽 또는 바이러스체크\n",
    "            if maps[next_r][next_c] != 0:\n",
    "                continue\n",
    "            # 방문 여부 체크\n",
    "            if visited[next_r][next_c]:\n",
    "                continue\n",
    "            q.append((next_r, next_c))\n",
    "            visited[next_r][next_c] = True\n",
    "            count += 1\n",
    "    answer[walls_added] = n*m - count - 3 - n_wall\n",
    "\n",
    "    # 세운 벽 되돌리기\n",
    "    for wall in walls_added:\n",
    "        maps[wall[0]][wall[1]] = 0\n",
    "print(max(answer.values()))"
   ]
  }
 ],
 "metadata": {
  "kernelspec": {
   "display_name": "Python 3",
   "language": "python",
   "name": "python3"
  },
  "language_info": {
   "codemirror_mode": {
    "name": "ipython",
    "version": 3
   },
   "file_extension": ".py",
   "mimetype": "text/x-python",
   "name": "python",
   "nbconvert_exporter": "python",
   "pygments_lexer": "ipython3",
   "version": "3.12.3"
  }
 },
 "nbformat": 4,
 "nbformat_minor": 2
}
