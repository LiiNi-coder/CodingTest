{
 "cells": [
  {
   "cell_type": "markdown",
   "metadata": {},
   "source": [
    "# [DP2](https://github.com/tony9402/baekjoon/tree/main/dynamic_programming_2)"
   ]
  },
  {
   "cell_type": "markdown",
   "metadata": {},
   "source": [
    "## 15724 주지수\n",
    "### 실버1\n",
    "[백준링크](https://www.acmicpc.net/problem/15724)"
   ]
  },
  {
   "cell_type": "markdown",
   "metadata": {},
   "source": [
    "개인적으로 많이 어려웠음"
   ]
  },
  {
   "cell_type": "code",
   "execution_count": null,
   "metadata": {},
   "outputs": [],
   "source": [
    "n, m = map(int, input().split())\n",
    "people_ss = []\n",
    "people_ss.append([0]*(m+1))\n",
    "for _ in range(n):\n",
    "    people_ss.append([0] + list(map(int, input().split())))\n",
    "questions = []\n",
    "for _ in range(int(input())):\n",
    "    questions.append(list(map(int, input().split())))\n",
    "from collections import deque\n",
    "def getPrefixSum(matrix):\n",
    "    prefix_sum_ss = [[0 for _ in range(len(matrix[0]))] for _ in range(len(matrix))]\n",
    "    prefix_sum_ss[1][1] = matrix[1][1]\n",
    "    for r in range(2, len(matrix)):\n",
    "        prefix_sum_ss[r][1] = prefix_sum_ss[r-1][1] + matrix[r][1]\n",
    "    for c in range(2, len(matrix[0])):\n",
    "        prefix_sum_ss[1][c] = prefix_sum_ss[1][c-1] + matrix[1][c]\n",
    "    for r in range(2, len(matrix)):\n",
    "        for c in range(2, len(matrix[0])):\n",
    "            prefix_sum_ss[r][c] = prefix_sum_ss[r][c-1] + prefix_sum_ss[r-1][c] - prefix_sum_ss[r-1][c-1] + matrix[r][c]\n",
    "    return prefix_sum_ss\n",
    "answer = []\n",
    "prefix_sum_ss = getPrefixSum(people_ss)\n",
    "for question in questions:\n",
    "    r1, c1, r2, c2 = question\n",
    "    answer.append(prefix_sum_ss[r2][c2] - (prefix_sum_ss[r1-1][c2] + prefix_sum_ss[r2][c1-1])+prefix_sum_ss[r1-1][c1-1])\n",
    "for ans in answer:\n",
    "    print(ans)"
   ]
  }
 ],
 "metadata": {
  "kernelspec": {
   "display_name": "Python 3",
   "language": "python",
   "name": "python3"
  },
  "language_info": {
   "codemirror_mode": {
    "name": "ipython",
    "version": 3
   },
   "file_extension": ".py",
   "mimetype": "text/x-python",
   "name": "python",
   "nbconvert_exporter": "python",
   "pygments_lexer": "ipython3",
   "version": "3.12.3"
  }
 },
 "nbformat": 4,
 "nbformat_minor": 2
}
