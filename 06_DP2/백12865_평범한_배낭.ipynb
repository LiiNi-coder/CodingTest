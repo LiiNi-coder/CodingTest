{
 "cells": [
  {
   "cell_type": "markdown",
   "metadata": {},
   "source": [
    "# (백준링크)[https://www.acmicpc.net/problem/12865]\n",
    "# 골드5"
   ]
  },
  {
   "cell_type": "code",
   "execution_count": null,
   "metadata": {},
   "outputs": [
    {
     "name": "stdout",
     "output_type": "stream",
     "text": [
      "14\n"
     ]
    }
   ],
   "source": [
    "raw_input = \"\"\"4 7\n",
    "6 13\n",
    "4 8\n",
    "3 6\n",
    "5 12\n",
    "\"\"\"\n",
    "def outer():\n",
    "    global raw_input\n",
    "    lines = raw_input.split(\"\\n\")\n",
    "    static_index = 0\n",
    "    def inner():\n",
    "        nonlocal static_index\n",
    "        static_index+=1\n",
    "        return lines[static_index-1].rstrip()\n",
    "    return inner\n",
    "input = outer()\n",
    "#-------------------------\n",
    "N, K = map(int, input().split())\n",
    "w_vs = []\n",
    "for _ in range(N):\n",
    "    w_vs.append(tuple(map(int, input().split())))\n",
    "w_vs.sort(key = lambda x: x[0], reverse=True)\n",
    "    \n",
    "answers = {}\n",
    "max_value = 0\n",
    "def dfs(start_index, weight, value, chain):\n",
    "    global max_value\n",
    "    if start_index < N:\n",
    "        new_w = weight + w_vs[start_index][0]\n",
    "        new_v = value + w_vs[start_index][1]\n",
    "        if new_w > K:\n",
    "            answers[tuple(chain)] = value\n",
    "            if value > max_value : max_value = value\n",
    "            return\n",
    "        dfs(start_index+1, new_w, new_v, chain + [start_index])\n",
    "        dfs(start_index+1, weight, value, chain)\n",
    "    else:\n",
    "        answers[tuple(chain)] = value\n",
    "        if value > max_value : max_value = value\n",
    "dfs(0, 0, 0,[])\n",
    "print(max_value)"
   ]
  },
  {
   "cell_type": "markdown",
   "metadata": {},
   "source": [
    "## 위 풀이는 시간초과 뜸!\n",
    "이 문젠 DP로 하는 것으로, DP 대표적문제이다. DP의 sub문제를 나눌때 `sub문제끼리 겹치면 안되며, sub문제의 합집합이 전체문제여야한다`를 가장 중요시 여겨야 하는 문제이다.\n",
    "### 흔히 하는 문제나누기 실수\n",
    "만약 K=5이고, (A, B, C, D)(W, V) = ((1, 10), (2, 30), (3, 20), (4, 50))이라고 할때,\n",
    "전체문제는 NS((A,B,C,D), 5)이다. 이를 나눌때, ((B, C, D), 4), ((A, C, D), 3), ((A, B, D), 2), ((B, C, D), 1)로 나누면 안된다. 왜냐하면 NS((A, B, C, D), 5)->NS((B, C, D), 1)는 `A를 배낭에 넣었음`으로 나눈것이지만, `A를 배낭 후보에 제외함`을 고려하지 않은 것이기 때문.\n",
    "## 어떻게?\n",
    "NS((A, B, C, D), 5) ->\n",
    "1. `A를 배낭에 넣었음` : NS((B, C, D), 1) + 10\n",
    "2. `A를 배낭 후보에 제외함` : NS((B, C, D), 5) + 0\n",
    "이렇게 나눠가는 것이다."
   ]
  },
  {
   "cell_type": "code",
   "execution_count": 41,
   "metadata": {},
   "outputs": [
    {
     "name": "stdout",
     "output_type": "stream",
     "text": [
      "{(2, 0): 0}\n",
      "{(2, 0): 0, (2, 3): 0}\n",
      "{(2, 0): 0, (2, 3): 0, (1, 3): 2}\n",
      "{(2, 0): 0, (2, 3): 0, (1, 3): 2, (2, 2): 0}\n",
      "{(2, 0): 0, (2, 3): 0, (1, 3): 2, (2, 2): 0, (2, 5): 4}\n",
      "{(2, 0): 0, (2, 3): 0, (1, 3): 2, (2, 2): 0, (2, 5): 4, (1, 5): 4}\n",
      "{(2, 0): 0, (2, 3): 0, (1, 3): 2, (2, 2): 0, (2, 5): 4, (1, 5): 4, (0, 5): 5}\n",
      "5\n"
     ]
    }
   ],
   "source": [
    "raw_input = \"\"\"3 5\n",
    "2 3\n",
    "3 2\n",
    "5 4\"\"\"\n",
    "def outer():\n",
    "    global raw_input\n",
    "    lines = raw_input.split(\"\\n\")\n",
    "    static_index = 0\n",
    "    def inner():\n",
    "        nonlocal static_index\n",
    "        static_index+=1\n",
    "        return lines[static_index-1].rstrip()\n",
    "    return inner\n",
    "input = outer()\n",
    "#-------------------------\n",
    "N, K = map(int, input().split())\n",
    "w_vs = []\n",
    "for _ in range(N):\n",
    "    w_vs.append(tuple(map(int, input().split())))\n",
    "dp_memo = {}\n",
    "def dp(i, k):\n",
    "    global dp_memo\n",
    "    key = (i, k)\n",
    "    if key in dp_memo:\n",
    "        return dp_memo[key]\n",
    "    target_w = w_vs[i][0]\n",
    "    target_v = w_vs[i][1]\n",
    "\n",
    "    if i >= N - 1:\n",
    "        dp_memo[key] = target_v if k - target_w >= 0 else 0\n",
    "    else:\n",
    "        if k - target_w < 0:\n",
    "            dp_memo[key] = dp(i+1, k)\n",
    "        else:\n",
    "            dp_memo[key] = max(\n",
    "                dp(i+1, k - target_w) + target_v,\n",
    "                dp(i+1, k)\n",
    "            )\n",
    "    print(dp_memo)\n",
    "    return dp_memo[key]\n",
    "print(dp(0, K))\n"
   ]
  },
  {
   "cell_type": "code",
   "execution_count": null,
   "metadata": {},
   "outputs": [],
   "source": []
  },
  {
   "cell_type": "code",
   "execution_count": null,
   "metadata": {},
   "outputs": [],
   "source": []
  }
 ],
 "metadata": {
  "kernelspec": {
   "display_name": "Python 3",
   "language": "python",
   "name": "python3"
  },
  "language_info": {
   "codemirror_mode": {
    "name": "ipython",
    "version": 3
   },
   "file_extension": ".py",
   "mimetype": "text/x-python",
   "name": "python",
   "nbconvert_exporter": "python",
   "pygments_lexer": "ipython3",
   "version": "3.13.0"
  }
 },
 "nbformat": 4,
 "nbformat_minor": 2
}
