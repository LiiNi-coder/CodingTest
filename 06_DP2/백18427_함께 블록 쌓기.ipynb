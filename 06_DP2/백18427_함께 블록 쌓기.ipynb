{
 "cells": [
  {
   "cell_type": "markdown",
   "metadata": {},
   "source": [
    "## 18427 함께 블록 쌓기\n",
    "### 골드4\n",
    "[백준링크](https://www.acmicpc.net/problem/18427)"
   ]
  },
  {
   "cell_type": "code",
   "execution_count": null,
   "metadata": {},
   "outputs": [],
   "source": [
    "import sys\n",
    "sys.setrecursionlimit(10000000)\n",
    "N,M,H = map(int, input().split())\n",
    "Blocks = []\n",
    "for i in range(N):\n",
    "    temp = list(map(int, input().split()))\n",
    "    temp.append(0)\n",
    "    temp = sorted(temp)\n",
    "    Blocks.append(temp)\n",
    "\n",
    "dp = {}\n",
    "\n",
    "def dfs(now_person:int, rest_height:int):\n",
    "    key = (now_person, rest_height)\n",
    "    value = []\n",
    "    if key not in dp:\n",
    "        if now_person < N - 1:\n",
    "            for block in Blocks[now_person]:\n",
    "                if rest_height - block < 0:\n",
    "                    break\n",
    "                child_key = (now_person + 1, rest_height - block)\n",
    "                if child_key not in dp:\n",
    "                    dfs(*child_key)\n",
    "                for child_value in dp[child_key]:\n",
    "                    if len(child_value) > 0:\n",
    "                        value.append(tuple([block]) + child_value)\n",
    "        else:\n",
    "            for block in Blocks[now_person]:\n",
    "                if rest_height == block:\n",
    "                    value.append(tuple([block]))\n",
    "        dp[key] = value\n",
    "dfs(0, H)\n",
    "#print(dp)\n",
    "print(len(dp[0, H]))"
   ]
  },
  {
   "cell_type": "code",
   "execution_count": null,
   "metadata": {},
   "outputs": [],
   "source": [
    "import sys\n",
    "sys.setrecursionlimit(10000000)\n",
    "\n",
    "N, M, H = map(int, input().split())\n",
    "Blocks = []\n",
    "for i in range(N):\n",
    "    temp = list(map(int, input().split()))\n",
    "    temp.append(0)\n",
    "    temp = sorted(temp)\n",
    "    Blocks.append(temp)\n",
    "\n",
    "dp = {}\n",
    "\n",
    "def dfs(now_person: int, rest_height: int) -> int:\n",
    "    if rest_height < 0:\n",
    "        return 0\n",
    "    if now_person == N:\n",
    "        return 1 if rest_height == 0 else 0\n",
    "\n",
    "    key = (now_person, rest_height)\n",
    "    if key not in dp:\n",
    "        dp[key] = 0\n",
    "        for block in Blocks[now_person]:\n",
    "            dp[key] += dfs(now_person + 1, rest_height - block)\n",
    "    \n",
    "    return dp[key]\n",
    "\n",
    "result = dfs(0, H)\n",
    "print(result)"
   ]
  },
  {
   "cell_type": "code",
   "execution_count": null,
   "metadata": {},
   "outputs": [],
   "source": [
    "import random\n",
    "for _ in range(10):\n",
    "    print(*random.sample(list(range(1, 15)), 10))"
   ]
  }
 ],
 "metadata": {
  "language_info": {
   "name": "python"
  }
 },
 "nbformat": 4,
 "nbformat_minor": 2
}
