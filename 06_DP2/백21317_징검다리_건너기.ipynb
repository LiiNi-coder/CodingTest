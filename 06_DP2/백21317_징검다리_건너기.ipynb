{
 "cells": [
  {
   "cell_type": "markdown",
   "metadata": {},
   "source": [
    "[백준링크](https://www.acmicpc.net/problem/21317)"
   ]
  },
  {
   "cell_type": "code",
   "execution_count": 17,
   "metadata": {},
   "outputs": [
    {
     "name": "stdout",
     "output_type": "stream",
     "text": [
      "[0]\n",
      "0\n"
     ]
    }
   ],
   "source": [
    "N = int(input().rstrip())\n",
    "Ss = []\n",
    "Bs = []\n",
    "for _ in range(N-1):\n",
    "    tokens = tuple(map(int, input().rstrip().split()))\n",
    "    Ss.append(tokens[0])\n",
    "    Bs.append(tokens[1])\n",
    "K = int(input())\n",
    "dp_withoutBB = [float(\"inf\")]*(N)\n",
    "dps = [[float(\"inf\")]*(N) for _ in range(N-3)]\n",
    "\n",
    "def getDp(dp_arr, start, start_value):\n",
    "    dp_arr[start] = start_value\n",
    "    if N - start == 1:\n",
    "        return\n",
    "    elif N - start == 2:\n",
    "        i = N-2\n",
    "        candidate_s = dp_arr[i] + Ss[i]\n",
    "        if candidate_s < dp_arr[i+1]: dp_arr[i+1] = candidate_s\n",
    "    else:\n",
    "        for i in range(start, N-2):\n",
    "            candidate_s = dp_arr[i] + Ss[i]\n",
    "            candidate_b = dp_arr[i] + Bs[i]\n",
    "            if candidate_s < dp_arr[i+1]: dp_arr[i+1] = candidate_s\n",
    "            if candidate_b < dp_arr[i+2]: dp_arr[i+2] = candidate_b\n",
    "        i = N-2\n",
    "        candidate_s = dp_arr[i] + Ss[i]\n",
    "        if candidate_s < dp_arr[i+1]: dp_arr[i+1] = candidate_s\n",
    "getDp(dp_withoutBB, 0, 0)\n",
    "answers = []\n",
    "answers.append(dp_withoutBB[-1])\n",
    "for bb_i in range(N-3):\n",
    "    getDp(dps[bb_i], bb_i+3, dp_withoutBB[bb_i] + K)\n",
    "    answers.append(dps[bb_i][-1])\n",
    "print(answers)"
   ]
  },
  {
   "cell_type": "code",
   "execution_count": null,
   "metadata": {},
   "outputs": [],
   "source": []
  }
 ],
 "metadata": {
  "kernelspec": {
   "display_name": "Python 3",
   "language": "python",
   "name": "python3"
  },
  "language_info": {
   "codemirror_mode": {
    "name": "ipython",
    "version": 3
   },
   "file_extension": ".py",
   "mimetype": "text/x-python",
   "name": "python",
   "nbconvert_exporter": "python",
   "pygments_lexer": "ipython3",
   "version": "3.12.6"
  }
 },
 "nbformat": 4,
 "nbformat_minor": 2
}
