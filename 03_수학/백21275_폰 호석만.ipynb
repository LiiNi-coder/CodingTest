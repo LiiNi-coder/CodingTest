{
 "cells": [
  {
   "cell_type": "markdown",
   "metadata": {},
   "source": [
    "# [수학](https://github.com/tony9402/baekjoon/tree/main/math)"
   ]
  },
  {
   "cell_type": "markdown",
   "metadata": {},
   "source": [
    "## 21275 폰 호석만\n",
    "### 실버2\n",
    "[백준링크](https://www.acmicpc.net/problem/21275)"
   ]
  },
  {
   "cell_type": "code",
   "execution_count": 59,
   "metadata": {},
   "outputs": [
    {
     "name": "stdout",
     "output_type": "stream",
     "text": [
      "[]\n",
      "Impossible\n"
     ]
    }
   ],
   "source": [
    "n, m = input().split()\n",
    "\n",
    "def get10radixOneChar(char):\n",
    "    assert(len(char) == 1)\n",
    "    if char >= \"0\" and char<=\"9\":\n",
    "        return int(char)\n",
    "    else: return ord(char) - ord(\"a\") + 10\n",
    "def getLengthInteger(integer):\n",
    "    jari = 1\n",
    "    while(integer >= 10):\n",
    "        integer /= 10\n",
    "        jari += 1\n",
    "    return jari\n",
    "def getInt(string, radix):\n",
    "    sum = 0\n",
    "    i = len(string)\n",
    "    for char in string:\n",
    "        sum += radix**(i-1) * get10radixOneChar(char)\n",
    "        i-=1\n",
    "    return sum\n",
    "max_value = 2**63\n",
    "i_max_radix_n, i_max_radix_m = get10radixOneChar(max(n))+1, get10radixOneChar(max(m))+1\n",
    "answer = []\n",
    "for ir_n in range(i_max_radix_n, 37):\n",
    "    for ir_m in range(i_max_radix_m, 37):\n",
    "        if ir_n == ir_m:\n",
    "            continue\n",
    "        n_10radix = getInt(n, ir_n)\n",
    "        if n_10radix >= max_value:\n",
    "            continue\n",
    "        m_10radix = getInt(m, ir_m)\n",
    "        if m_10radix >= max_value:\n",
    "            continue\n",
    "        if n_10radix == m_10radix:\n",
    "           answer.append((n_10radix, ir_n, ir_m))\n",
    "\n",
    "if len(answer) == 0:\n",
    "    print(\"Impossible\")\n",
    "elif len(answer) == 1:\n",
    "    for i in answer[0]:\n",
    "        print(i, end=\" \")\n",
    "else:\n",
    "    print(\"Multiple\")"
   ]
  }
 ],
 "metadata": {
  "kernelspec": {
   "display_name": "Python 3",
   "language": "python",
   "name": "python3"
  },
  "language_info": {
   "codemirror_mode": {
    "name": "ipython",
    "version": 3
   },
   "file_extension": ".py",
   "mimetype": "text/x-python",
   "name": "python",
   "nbconvert_exporter": "python",
   "pygments_lexer": "ipython3",
   "version": "3.12.3"
  }
 },
 "nbformat": 4,
 "nbformat_minor": 2
}
