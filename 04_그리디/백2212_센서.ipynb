{
 "cells": [
  {
   "cell_type": "code",
   "execution_count": 11,
   "metadata": {},
   "outputs": [
    {
     "name": "stdout",
     "output_type": "stream",
     "text": [
      "0\n"
     ]
    }
   ],
   "source": [
    "from collections import defaultdict\n",
    "N = int(input())\n",
    "K = int(input())\n",
    "sensors = sorted(list(map(int, input().split())))\n",
    "differences = defaultdict(int)\n",
    "for i in range(N-1):\n",
    "    differences[sensors[i+1] - sensors[i]] += 1\n",
    "\n",
    "temp = []\n",
    "for diff, n in differences.items():\n",
    "    temp.append((diff, n))\n",
    "temp.sort(key=lambda x: x[0], reverse=True)\n",
    "temp2 = []\n",
    "for diff, n in temp:\n",
    "    for i in range(n):\n",
    "        temp2.append(diff)\n",
    "print(sum(temp2[K-1:]))"
   ]
  }
 ],
 "metadata": {
  "kernelspec": {
   "display_name": "Python 3",
   "language": "python",
   "name": "python3"
  },
  "language_info": {
   "codemirror_mode": {
    "name": "ipython",
    "version": 3
   },
   "file_extension": ".py",
   "mimetype": "text/x-python",
   "name": "python",
   "nbconvert_exporter": "python",
   "pygments_lexer": "ipython3",
   "version": "3.12.3"
  }
 },
 "nbformat": 4,
 "nbformat_minor": 2
}
