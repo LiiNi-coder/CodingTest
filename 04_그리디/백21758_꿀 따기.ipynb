{
 "cells": [
  {
   "cell_type": "markdown",
   "metadata": {},
   "source": [
    "# 21758 꿀따기\n",
    "[백준문제](https://www.acmicpc.net/problem/21758)"
   ]
  },
  {
   "cell_type": "markdown",
   "metadata": {},
   "source": [
    "문제 풀기 실패.\n",
    "아래 코드는 벌들이 양 옆일 것이라고 그리디로 풀어서 잘못된 예시.\n",
    "정답 그리디를 생각 못해서 못 푼 문제이다."
   ]
  },
  {
   "cell_type": "markdown",
   "metadata": {},
   "source": [
    "정답은 다음과 같다.\n",
    "(풀이)[https://danbibibi.tistory.com/entry/BOJ-21758%EB%B2%88-%EA%BF%80-%EB%94%B0%EA%B8%B0]\n",
    "\n",
    "## 정답\n",
    "### 시간복잡도\n",
    "`O(n)`\n",
    "### 그리디\n",
    "벌과 통의 관계로 케이스를 분류한다.\n",
    "1. 벌 벌 통\n",
    "   - 왼쪽 벌이 가장 왼쪽에 있는게 이득.\n",
    "   - 따라서 `오른쪽 벌을 O(N)`\n",
    "2. 벌 통 벌\n",
    "   - 양쪽 벌이 가장 양 쪽에 있는게 이득.\n",
    "   - 따라서 `통을 O(N)`\n",
    "3. 통 벌 벌\n",
    "   - 오른쪽 벌이 가장 오른쪽에 있는게 이득.\n",
    "   - 따라서 `왼쪽 벌을 O(N)`"
   ]
  },
  {
   "cell_type": "code",
   "execution_count": 5,
   "metadata": {},
   "outputs": [
    {
     "name": "stdout",
     "output_type": "stream",
     "text": [
      "54\n"
     ]
    }
   ],
   "source": [
    "N = int(input())\n",
    "Arr = list(map(int, input().split()))\n",
    "\n",
    "temp = []\n",
    "for indexes in (range(N), range(N-1, -1, -1)):\n",
    "    sum_temp = 0\n",
    "    arr_temp = [0]*N\n",
    "    for i in indexes:\n",
    "        sum_temp += Arr[i]\n",
    "        arr_temp[i] = sum_temp\n",
    "    temp.append(arr_temp)\n",
    "left_prefix_sums, right_prefix_sums = temp\n",
    "\n",
    "answer = []\n",
    "sum_value = right_prefix_sums[0]\n",
    "answer.append((sum_value - sum(Arr[:2]))*2)\n",
    "answer.append((sum_value - sum(Arr[-2:]))*2)\n",
    "\n",
    "for i in range(1, N-1):\n",
    "    temp = left_prefix_sums[i] - left_prefix_sums[0]\n",
    "    temp += right_prefix_sums[i] - right_prefix_sums[N-1]\n",
    "    answer.append(temp)\n",
    "print(max(answer))\n",
    "    \n",
    "        \n",
    "    "
   ]
  }
 ],
 "metadata": {
  "kernelspec": {
   "display_name": "Python 3",
   "language": "python",
   "name": "python3"
  },
  "language_info": {
   "codemirror_mode": {
    "name": "ipython",
    "version": 3
   },
   "file_extension": ".py",
   "mimetype": "text/x-python",
   "name": "python",
   "nbconvert_exporter": "python",
   "pygments_lexer": "ipython3",
   "version": "3.12.3"
  }
 },
 "nbformat": 4,
 "nbformat_minor": 2
}
