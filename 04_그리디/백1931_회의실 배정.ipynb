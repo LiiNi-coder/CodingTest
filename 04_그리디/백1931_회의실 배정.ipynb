{
 "cells": [
  {
   "cell_type": "markdown",
   "metadata": {},
   "source": [
    "# [그리디](https://github.com/tony9402/baekjoon?tab=readme-ov-file)"
   ]
  },
  {
   "cell_type": "markdown",
   "metadata": {},
   "source": [
    "## 1931 회의실 배정\n",
    "### 실버1\n",
    "[백준문제](https://www.acmicpc.net/problem/1931)"
   ]
  },
  {
   "cell_type": "code",
   "execution_count": 17,
   "metadata": {},
   "outputs": [
    {
     "name": "stdout",
     "output_type": "stream",
     "text": [
      "[(0, 3), (2, 5), (3, 5), (4, 5), (5, 5)]\n",
      "3\n"
     ]
    }
   ],
   "source": [
    "n = int(input())\n",
    "times = []\n",
    "for _ in range(n):\n",
    "    times.append(tuple(map(int, input().split())))\n",
    "times.sort(key=lambda x: (x[1], x[0]))\n",
    "#print(times)\n",
    "answer = 0\n",
    "iter_time = 0\n",
    "for start_time, end_time in times:\n",
    "    if start_time < iter_time:\n",
    "        continue\n",
    "    iter_time = end_time\n",
    "    answer+=1\n",
    "print(answer)"
   ]
  },
  {
   "cell_type": "code",
   "execution_count": 19,
   "metadata": {},
   "outputs": [
    {
     "name": "stdout",
     "output_type": "stream",
     "text": [
      "a1 : [(0, 3), (2, 5), (5, 5), (4, 5), (3, 5)]\n",
      "a2 : [(0, 3), (5, 5), (4, 5), (3, 5), (2, 5)]\n"
     ]
    },
    {
     "ename": "",
     "evalue": "",
     "output_type": "error",
     "traceback": [
      "\u001b[1;31mThe Kernel crashed while executing code in the current cell or a previous cell. \n",
      "\u001b[1;31mPlease review the code in the cell(s) to identify a possible cause of the failure. \n",
      "\u001b[1;31mClick <a href='https://aka.ms/vscodeJupyterKernelCrash'>here</a> for more info. \n",
      "\u001b[1;31mView Jupyter <a href='command:jupyter.viewOutput'>log</a> for further details."
     ]
    }
   ],
   "source": [
    "a1 = [(2, 5), (5, 5), (4, 5), (3, 5), (0, 3)]\n",
    "a2 = [(2, 5), (5, 5), (4, 5), (3, 5), (0, 3)]\n",
    "#sort()는 stable하지만, 애초에 input순서가 순서대로일거라는 보장이없어서 의미없음\n",
    "a1.sort(key=lambda x: x[1]) #x[1]기준으로 오름차순, (단, x[0]은 신경 안씀)\n",
    "a2.sort(key=lambda x: (x[1], -x[0])) #x[1]기준으로 오름차순, x[1]이 같을 경우엔 x[0]기준으로 내림차순\n",
    "print(f\"a1 : {a1}\")\n",
    "print(f\"a2 : {a2}\")"
   ]
  },
  {
   "cell_type": "code",
   "execution_count": null,
   "metadata": {},
   "outputs": [],
   "source": []
  }
 ],
 "metadata": {
  "kernelspec": {
   "display_name": "Python 3",
   "language": "python",
   "name": "python3"
  },
  "language_info": {
   "codemirror_mode": {
    "name": "ipython",
    "version": 3
   },
   "file_extension": ".py",
   "mimetype": "text/x-python",
   "name": "python",
   "nbconvert_exporter": "python",
   "pygments_lexer": "ipython3",
   "version": "3.12.3"
  }
 },
 "nbformat": 4,
 "nbformat_minor": 2
}
