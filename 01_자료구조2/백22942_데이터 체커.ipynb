{
 "cells": [
  {
   "cell_type": "code",
   "execution_count": 8,
   "metadata": {},
   "outputs": [
    {
     "name": "stdout",
     "output_type": "stream",
     "text": [
      "[None, None, 3, 3, 3, None, None, None, None, None, None, None, None, None, None]\n",
      "NO\n"
     ]
    }
   ],
   "source": [
    "N = int(sys.stdin.readline())\n",
    "centor_arr = [None]*2000001 # [i]는 i원의 중심좌표\n",
    "edge_arr = [None]*2000001\n",
    "is_ok = True\n",
    "x_rs = []\n",
    "for _ in range(N):\n",
    "    x_rs.append(map(int, sys.stdin.readline().split()))\n",
    "for x, r in x_rs:\n",
    "    #z원 : i원의 중심을 포함하는 가장 안쪽 원\n",
    "    #z원 찾기\n",
    "    z_x = centor_arr[x]\n",
    "    if z_x != centor_arr[x-r] or z_x != centor_arr[x+r]:\n",
    "        is_ok = False\n",
    "        break\n",
    "    elif edge_arr[x-r] == x or edge_arr[x+r] == x:\n",
    "        is_ok = False\n",
    "        break\n",
    "    for i in range(x-r, x+r+1):\n",
    "        centor_arr[i] = x\n",
    "    edge_arr[x-r] = edge_arr[x+r] = x\n",
    "    #print(centor_arr[:15])\n",
    "if is_ok:\n",
    "    print(\"YES\")\n",
    "else:\n",
    "    print(\"NO\")"
   ]
  },
  {
   "cell_type": "markdown",
   "metadata": {},
   "source": [
    "# 1시간... 시간초과...\n",
    "아무래도 r이 최대값일때 그만큼 arr[x-r:x+r+1]을 x로 도배해야하다보니 이게 시간이 걸린듯\n",
    "\n",
    "# 스택을 이용\n",
    "해서 다시품"
   ]
  },
  {
   "cell_type": "code",
   "execution_count": 20,
   "metadata": {},
   "outputs": [],
   "source": [
    "import sys\n",
    "N = int(sys.stdin.readline())\n",
    "x_rs = []\n",
    "for _ in range(N):\n",
    "    x, r = map(int, sys.stdin.readline().split())\n",
    "    x_rs.extend(((x-r, x, True), (x+r, x, False)))\n",
    "x_rs.sort( key=lambda x: x[0])\n",
    "stack = []\n",
    "\n",
    "is_ok = True\n",
    "for x, centor, isLeft in x_rs:\n",
    "    if isLeft:\n",
    "        stack.append(centor)\n",
    "        continue\n",
    "    if stack[-1] != centor:\n",
    "        is_ok = False\n",
    "        break\n",
    "    else:\n",
    "        stack.pop()\n",
    "if is_ok == False or len(stack) != 0:\n",
    "    print(\"NO\")\n",
    "else:\n",
    "    print(\"YES\")\n",
    "    "
   ]
  },
  {
   "cell_type": "code",
   "execution_count": null,
   "metadata": {},
   "outputs": [],
   "source": []
  },
  {
   "cell_type": "code",
   "execution_count": null,
   "metadata": {},
   "outputs": [],
   "source": []
  }
 ],
 "metadata": {
  "kernelspec": {
   "display_name": "Python 3",
   "language": "python",
   "name": "python3"
  },
  "language_info": {
   "codemirror_mode": {
    "name": "ipython",
    "version": 3
   },
   "file_extension": ".py",
   "mimetype": "text/x-python",
   "name": "python",
   "nbconvert_exporter": "python",
   "pygments_lexer": "ipython3",
   "version": "3.12.3"
  }
 },
 "nbformat": 4,
 "nbformat_minor": 2
}
