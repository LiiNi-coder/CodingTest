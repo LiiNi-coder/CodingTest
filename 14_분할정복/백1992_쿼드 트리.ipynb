{
 "cells": [
  {
   "cell_type": "code",
   "execution_count": 1,
   "metadata": {},
   "outputs": [
    {
     "name": "stdout",
     "output_type": "stream",
     "text": [
      "[[1, 1, 1, 1, 0, 0, 0, 0], [1, 1, 1, 1, 0, 0, 0, 0], [0, 0, 0, 1, 1, 1, 0, 0], [0, 0, 0, 1, 1, 1, 0, 0], [1, 1, 1, 1, 0, 0, 0, 0], [1, 1, 1, 1, 0, 0, 0, 0], [1, 1, 1, 1, 0, 0, 1, 1], [1, 1, 1, 1, 0, 0, 1, 1]]\n"
     ]
    }
   ],
   "source": [
    "n = 8\n",
    "frame = []\n",
    "raw = \"\"\"11110000\n",
    "11110000\n",
    "00011100\n",
    "00011100\n",
    "11110000\n",
    "11110000\n",
    "11110011\n",
    "11110011\"\"\"\n",
    "for line in raw.split():\n",
    "    frame.append(list(map(int, line)))\n",
    "print(frame)"
   ]
  },
  {
   "cell_type": "code",
   "execution_count": 4,
   "metadata": {},
   "outputs": [
    {
     "name": "stdout",
     "output_type": "stream",
     "text": [
      "(1000)\n"
     ]
    },
    {
     "ename": "",
     "evalue": "",
     "output_type": "error",
     "traceback": [
      "\u001b[1;31mThe Kernel crashed while executing code in the current cell or a previous cell. \n",
      "\u001b[1;31mPlease review the code in the cell(s) to identify a possible cause of the failure. \n",
      "\u001b[1;31mClick <a href='https://aka.ms/vscodeJupyterKernelCrash'>here</a> for more info. \n",
      "\u001b[1;31mView Jupyter <a href='command:jupyter.viewOutput'>log</a> for further details."
     ]
    }
   ],
   "source": [
    "\"\"\"\n",
    "n = int(input())\n",
    "frame = []\n",
    "for i in range(n):\n",
    "    frame.append(list(map(int, input())))\n",
    "\"\"\"\n",
    "def whether1andFullfill(coords,i_n):\n",
    "    result = [None, None]\n",
    "    result[0] = True if i_n == 1 else False\n",
    "    sum = 0\n",
    "    for r in range(coords[0], coords[0]+i_n):\n",
    "        for c in range(coords[1], coords[1] + i_n):\n",
    "            sum +=frame[r][c]\n",
    "    if sum == i_n*i_n: result[1] = 1\n",
    "    elif sum == 0: result[1] = 0\n",
    "    else: result[1] = -1\n",
    "    return tuple(result)\n",
    "#시작좌표(왼쪽상단)(row, col), width, height\n",
    "result = \"\"\n",
    "def quadTree(coords, i_n):\n",
    "    global result\n",
    "    result+=\"(\"\n",
    "    for coord in (coords, (coords[0], coords[1]+i_n//2), (coords[0]+i_n//2, coords[1]), (coords[0]+i_n//2, coords[1]+i_n//2)):\n",
    "        is_last, is_fullfill = whether1andFullfill(coord, i_n//2)\n",
    "        if is_fullfill == 1:\n",
    "            result += \"1\"\n",
    "        elif is_fullfill == 0:\n",
    "            result += \"0\"\n",
    "        else:\n",
    "            if not is_last:\n",
    "                quadTree(coord, i_n//2)\n",
    "    result+=\")\"\n",
    "\n",
    "quadTree((0, 0), n)\n",
    "print(result)"
   ]
  },
  {
   "cell_type": "code",
   "execution_count": null,
   "metadata": {},
   "outputs": [],
   "source": []
  }
 ],
 "metadata": {
  "kernelspec": {
   "display_name": "Python 3",
   "language": "python",
   "name": "python3"
  },
  "language_info": {
   "codemirror_mode": {
    "name": "ipython",
    "version": 3
   },
   "file_extension": ".py",
   "mimetype": "text/x-python",
   "name": "python",
   "nbconvert_exporter": "python",
   "pygments_lexer": "ipython3",
   "version": "3.12.3"
  }
 },
 "nbformat": 4,
 "nbformat_minor": 2
}
