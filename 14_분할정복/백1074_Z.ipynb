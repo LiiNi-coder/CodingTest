{
 "cells": [
  {
   "cell_type": "markdown",
   "metadata": {},
   "source": [
    "# [분할정복](https://github.com/tony9402/baekjoon/tree/main/divide_and_conquer)\n",
    "커다란 문제를 조금씩 나눠가면서 푸는 기법\n",
    "```\n",
    "function F(x):\n",
    "  if F(x)의 문제가 간단 then:\n",
    "    return F(x)을 직접 계산한 값\n",
    "  else:\n",
    "    x 를 y1, y2로 분할\n",
    "    F(y1)과 F(y2)를 호출\n",
    "    return F(y1), F(y2)로부터 F(x)를 구한 값\n",
    "```\n",
    "\n",
    "재귀함수라서 크기가 커지면 메모리가 방대해짐"
   ]
  },
  {
   "cell_type": "markdown",
   "metadata": {},
   "source": [
    "## 1074 Z\n",
    "### 실버1\n",
    "[백준문제](https://www.acmicpc.net/problem/1074)"
   ]
  },
  {
   "cell_type": "code",
   "execution_count": 5,
   "metadata": {},
   "outputs": [
    {
     "name": "stdout",
     "output_type": "stream",
     "text": [
      "161073\n"
     ]
    }
   ],
   "source": [
    "N, R, C = map(int, input().split())\n",
    "i_visit = 0\n",
    "def conq(left_top_coords, n, i):\n",
    "    if n==0:\n",
    "        print(i)\n",
    "        return\n",
    "    sub_size = 2**(n-1)\n",
    "    temp = []\n",
    "    if R < left_top_coords[0]+sub_size:\n",
    "        temp.append(True)\n",
    "    else:\n",
    "        temp.append(False)\n",
    "    if C < left_top_coords[1]+sub_size:\n",
    "        temp.append(False)\n",
    "    else:\n",
    "        temp.append(True)\n",
    "    temp = tuple(temp)\n",
    "    if temp == (True, True):\n",
    "        conq((left_top_coords[0], left_top_coords[1] + sub_size), n-1, i+sub_size**2)\n",
    "    elif temp == (True, False):\n",
    "        conq(left_top_coords, n-1, i)\n",
    "    elif temp == (False, False):\n",
    "        conq((left_top_coords[0]+sub_size, left_top_coords[1]), n-1, i+(sub_size**2)*2)\n",
    "    else:\n",
    "        conq((left_top_coords[0]+sub_size, left_top_coords[1] + sub_size), n-1, i+(sub_size**2)*3)\n",
    "conq((0, 0), N, 0)"
   ]
  },
  {
   "cell_type": "markdown",
   "metadata": {},
   "source": [
    "### 50분\n",
    "분할을 할 떄 bfs마냥 모든곳을 보게해서 n==1일때 전역변수 i가 4증가하게 하여 천천히 4씩 더해가며 세어나가서 오래걸림.\n",
    "그냥 분할을 할 떄 필요한 곳으로만 분할conq호출하면 되는건데..."
   ]
  }
 ],
 "metadata": {
  "kernelspec": {
   "display_name": "Python 3",
   "language": "python",
   "name": "python3"
  },
  "language_info": {
   "codemirror_mode": {
    "name": "ipython",
    "version": 3
   },
   "file_extension": ".py",
   "mimetype": "text/x-python",
   "name": "python",
   "nbconvert_exporter": "python",
   "pygments_lexer": "ipython3",
   "version": "3.12.3"
  }
 },
 "nbformat": 4,
 "nbformat_minor": 2
}
