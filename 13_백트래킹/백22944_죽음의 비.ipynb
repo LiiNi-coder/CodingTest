{
 "cells": [
  {
   "cell_type": "markdown",
   "metadata": {},
   "source": [
    "# 죽음의 비\n",
    "## 골드3\n",
    "[백준링크](https://www.acmicpc.net/problem/22944)"
   ]
  },
  {
   "cell_type": "code",
   "execution_count": 12,
   "metadata": {},
   "outputs": [
    {
     "name": "stdout",
     "output_type": "stream",
     "text": [
      "{(0, 3), (3, 3)}\n",
      "6\n"
     ]
    }
   ],
   "source": [
    "# 현재 위치에서 갈 수 있는 칸이 아니라 우산+안전지대를 찾아 이를 토대로 BFS한다.\n",
    "N, HP, UHP = map(int, input().split())\n",
    "UMBRELLAS = []\n",
    "for r in range(N):\n",
    "    line = list(input())\n",
    "    for c in range(N):\n",
    "        if line[c] == \"S\":\n",
    "            START = (r, c)\n",
    "        elif line[c] == \"U\":\n",
    "            UMBRELLAS.append((r, c))\n",
    "        elif line[c] == \"E\":\n",
    "            GOAL = (r, c)\n",
    "drdcs = ((0, 1), (1, 0), (0, -1), (-1, 0))\n",
    "from collections import deque\n",
    "def bfs(go_count, start, targets)->set:\n",
    "    targets_can_go = set()\n",
    "    q = deque()\n",
    "    q.append((go_count, start))\n",
    "    visited = [[False]*N for _ in range(N)]\n",
    "    visited[start[0]][start[1]] = True\n",
    "    while len(q)>0:\n",
    "        now_go_count, now_point = q.popleft()\n",
    "        if now_point in targets:\n",
    "            targets_can_go.add(now_point)\n",
    "        if now_go_count <= 0:\n",
    "            continue\n",
    "        for dr, dc in drdcs:\n",
    "            next_dr, next_dc = now_point[0] + dr, now_point[1]+ dc\n",
    "            if not(0<=next_dr<N and 0<=next_dc<N):\n",
    "                continue\n",
    "            if visited[next_dr][next_dc]:\n",
    "                continue\n",
    "            q.append((now_go_count-1, (next_dr, next_dc)))\n",
    "            visited[next_dr][next_dc] = True\n",
    "    return targets_can_go\n",
    "def getPointOfSafeZone(point, hp, is_on, umbrellas:set):\n",
    "    temp = umbrellas.copy()\n",
    "    temp.add(GOAL)\n",
    "    safe_zones = None\n",
    "    if is_on:\n",
    "        safe_zones = bfs(hp+UHP-1, point, temp)\n",
    "    else:\n",
    "        #우산을 쓰고 있지않으면 hp가 깎임\n",
    "        safe_zones = bfs(hp, point, temp)\n",
    "    return safe_zones\n",
    "def goAndGetDistance(point, target_point, umbrellas:set)->tuple[int, set]:\n",
    "    # 우산이 target_point인경우 우산 처리도 해줘야함\n",
    "    delta = abs(target_point[0] - point[0]) + abs(target_point[1] - point[1])\n",
    "    if target_point in set(UMBRELLAS):\n",
    "        umbrellas.remove((target_point))\n",
    "        return (delta, umbrellas)\n",
    "    else:\n",
    "        return (delta, umbrellas)\n",
    "# 현재 남은 체력에서 갈 수 있는 우산+안전지대(safe_zone;s)를 찾는다.\n",
    "q = deque()\n",
    "q.append((START, 0, HP,set(UMBRELLAS), False))\n",
    "is_find = False\n",
    "while True:\n",
    "    point, distance, hp, umbrellas, is_on= q.popleft()\n",
    "    s = getPointOfSafeZone(point, hp, is_on, umbrellas)\n",
    "\n",
    "    if len(s) == 0 or s is None:\n",
    "        break\n",
    "    for s_r, s_c in s:\n",
    "        if (s_r, s_c) == GOAL:\n",
    "            delta_distance, new_umbrellas = goAndGetDistance(point, GOAL, umbrellas)\n",
    "            is_find = True\n",
    "            break\n",
    "        else:\n",
    "            delta_distance, new_umbrellas = goAndGetDistance(point, (s_r, s_c), umbrellas)\n",
    "            if is_on:\n",
    "                q.append(((s_r, s_c), distance+delta_distance, hp+UHP-delta_distance, new_umbrellas, True))\n",
    "            else:\n",
    "                q.append(((s_r, s_c), distance+delta_distance, hp-delta_distance, new_umbrellas, True))\n",
    "    if is_find:\n",
    "        break\n",
    "if is_find:\n",
    "    print(distance + delta_distance)\n",
    "else:\n",
    "    print(-1)"
   ]
  },
  {
   "cell_type": "code",
   "execution_count": 4,
   "metadata": {},
   "outputs": [
    {
     "name": "stdout",
     "output_type": "stream",
     "text": [
      "{(2, 3), (1, 2)}\n"
     ]
    }
   ],
   "source": [
    "a = set([(1, 2)])\n",
    "b = set([(2, 3)])\n",
    "a.update(b)\n",
    "print(a)"
   ]
  }
 ],
 "metadata": {
  "kernelspec": {
   "display_name": "Python 3",
   "language": "python",
   "name": "python3"
  },
  "language_info": {
   "codemirror_mode": {
    "name": "ipython",
    "version": 3
   },
   "file_extension": ".py",
   "mimetype": "text/x-python",
   "name": "python",
   "nbconvert_exporter": "python",
   "pygments_lexer": "ipython3",
   "version": "3.12.6"
  }
 },
 "nbformat": 4,
 "nbformat_minor": 2
}
