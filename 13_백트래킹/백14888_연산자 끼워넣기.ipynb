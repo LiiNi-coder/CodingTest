{
 "cells": [
  {
   "cell_type": "markdown",
   "metadata": {},
   "source": [
    "## 연산자 끼워넣기\n",
    "### 실버1\n",
    "[백준링크](https://www.acmicpc.net/problem/14888)"
   ]
  },
  {
   "cell_type": "markdown",
   "metadata": {},
   "source": [
    "itertool없이 같은것이 있는 순열, 순열, 조합, 중복조합 등 구현 연습해야함\n",
    "[참고](https://programming4myself.tistory.com/94)"
   ]
  },
  {
   "cell_type": "code",
   "execution_count": 21,
   "metadata": {},
   "outputs": [
    {
     "name": "stdout",
     "output_type": "stream",
     "text": [
      "10 {('a', 'a', 'b', 'b', 'a'), ('a', 'a', 'b', 'a', 'b'), ('a', 'b', 'a', 'b', 'a'), ('b', 'b', 'a', 'a', 'a'), ('a', 'b', 'a', 'a', 'b'), ('a', 'b', 'b', 'a', 'a'), ('b', 'a', 'a', 'b', 'a'), ('a', 'a', 'a', 'b', 'b'), ('b', 'a', 'b', 'a', 'a'), ('b', 'a', 'a', 'a', 'b')}\n"
     ]
    }
   ],
   "source": [
    "#같은것이 있는 순열\n",
    "arr = \"aaabb\"\n",
    "def perm(arr, r):\n",
    "    visited = [False]*len(arr)\n",
    "    result = set()\n",
    "    def _perm(temp):\n",
    "        if len(temp) == r:\n",
    "            result.add(tuple(temp))\n",
    "            return\n",
    "        for i in range(len(arr)):\n",
    "            if visited[i]:\n",
    "                continue\n",
    "            visited[i] = True\n",
    "            _perm(temp+[arr[i]])\n",
    "            visited[i] = False\n",
    "    _perm([])\n",
    "    return result\n",
    "result = perm(arr, 5)\n",
    "print(len(result), result)"
   ]
  },
  {
   "cell_type": "code",
   "execution_count": 35,
   "metadata": {},
   "outputs": [
    {
     "name": "stdout",
     "output_type": "stream",
     "text": [
      "['+', '+', '-', '*', '/']\n",
      "54\n",
      "-24\n",
      "[(0, ('+', '/', '+', '-', '*')), (-1, ('/', '-', '*', '+', '+')), (-2, ('+', '+', '*', '/', '-')), (5, ('+', '/', '*', '-', '+')), (5, ('-', '+', '+', '*', '/')), (36, ('/', '-', '+', '+', '*')), (7, ('+', '*', '-', '/', '+')), (29, ('/', '+', '+', '*', '-')), (1, ('-', '*', '+', '+', '/')), (26, ('-', '/', '+', '*', '+')), (30, ('+', '-', '/', '+', '*')), (3, ('+', '/', '*', '+', '-')), (6, ('-', '*', '+', '/', '+')), (0, ('+', '-', '*', '+', '/')), (-1, ('+', '+', '/', '*', '-')), (6, ('-', '+', '/', '*', '+')), (1, ('+', '*', '+', '-', '/')), (0, ('*', '+', '/', '+', '-')), (1, ('*', '-', '+', '+', '/')), (0, ('*', '+', '+', '-', '/')), (2, ('*', '+', '/', '-', '+')), (6, ('+', '-', '*', '/', '+')), (11, ('/', '-', '+', '*', '+')), (1, ('/', '+', '-', '*', '+')), (1, ('*', '+', '-', '+', '/')), (-9, ('+', '/', '-', '*', '+')), (0, ('+', '+', '-', '/', '*')), (0, ('+', '-', '+', '/', '*')), (12, ('+', '/', '-', '+', '*')), (2, ('-', '+', '*', '+', '/')), (11, ('-', '*', '/', '+', '+')), (3, ('+', '-', '+', '*', '/')), (6, ('+', '-', '/', '*', '+')), (11, ('/', '+', '*', '+', '-')), (3, ('/', '*', '+', '+', '-')), (13, ('/', '+', '*', '-', '+')), (5, ('/', '*', '+', '-', '+')), (11, ('-', '/', '*', '+', '+')), (3, ('+', '*', '/', '-', '+')), (-5, ('*', '+', '+', '/', '-')), (5, ('*', '/', '+', '-', '+')), (7, ('/', '*', '-', '+', '+')), (6, ('*', '+', '-', '/', '+')), (1, ('+', '+', '-', '*', '/')), (-4, ('+', '*', '+', '/', '-')), (19, ('+', '/', '+', '*', '-')), (11, ('*', '-', '/', '+', '+')), (1, ('+', '*', '-', '+', '/')), (6, ('-', '+', '+', '/', '*')), (6, ('*', '-', '+', '/', '+')), (7, ('-', '+', '*', '/', '+')), (12, ('/', '+', '+', '-', '*')), (1, ('+', '*', '/', '+', '-')), (7, ('*', '/', '-', '+', '+')), (30, ('-', '+', '/', '+', '*')), (3, ('*', '/', '+', '+', '-')), (-24, ('+', '+', '/', '-', '*')), (54, ('-', '/', '+', '+', '*')), (3, ('+', '+', '*', '-', '/')), (24, ('/', '+', '-', '+', '*'))]\n"
     ]
    }
   ],
   "source": [
    "n = int(input())\n",
    "arr = list(map(int, input().split()))\n",
    "temp = list(map(int, input().split()))\n",
    "operators = [\"+\"]*temp[0] + [\"-\"]*temp[1] + [\"*\"]*temp[2] + [\"/\"]*temp[3]\n",
    "\n",
    "def perm(arr, r):\n",
    "    visited = [False]*len(arr)\n",
    "    result = set()\n",
    "    def _perm(_arr):\n",
    "        if len(_arr)==r:\n",
    "            result.add(tuple(_arr))\n",
    "            return\n",
    "        for i in range(len(arr)):\n",
    "            if visited[i]:\n",
    "                continue\n",
    "            visited[i] = True\n",
    "            _perm(_arr+[arr[i]])\n",
    "            visited[i] = False\n",
    "    _perm([])\n",
    "    return result\n",
    "perms_operators = perm(operators, n-1)\n",
    "\n",
    "result = []\n",
    "for perm_operators in perms_operators:\n",
    "    temp = arr[0]\n",
    "    for operand, operator in zip(arr[1:], perm_operators):\n",
    "        if operator == \"+\":\n",
    "            temp += operand\n",
    "        elif operator == \"-\":\n",
    "            temp -= operand\n",
    "        elif operator == \"/\":\n",
    "            if temp < 0:\n",
    "                temp = -(-temp // operand)\n",
    "            else:\n",
    "                temp //= operand\n",
    "        else:\n",
    "            temp *= operand\n",
    "    result.append(temp)\n",
    "print(max(result))\n",
    "print(min(result))\n"
   ]
  },
  {
   "cell_type": "code",
   "execution_count": 33,
   "metadata": {},
   "outputs": [
    {
     "name": "stdout",
     "output_type": "stream",
     "text": [
      "-1\n"
     ]
    }
   ],
   "source": [
    "print(-1//3)"
   ]
  }
 ],
 "metadata": {
  "kernelspec": {
   "display_name": "Python 3",
   "language": "python",
   "name": "python3"
  },
  "language_info": {
   "codemirror_mode": {
    "name": "ipython",
    "version": 3
   },
   "file_extension": ".py",
   "mimetype": "text/x-python",
   "name": "python",
   "nbconvert_exporter": "python",
   "pygments_lexer": "ipython3",
   "version": "3.12.3"
  }
 },
 "nbformat": 4,
 "nbformat_minor": 2
}
