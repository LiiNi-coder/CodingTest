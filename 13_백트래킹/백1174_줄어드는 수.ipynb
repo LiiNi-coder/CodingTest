{
 "cells": [
  {
   "cell_type": "markdown",
   "metadata": {},
   "source": [
    "# 새로 배운점\n",
    "## nonlocal 키워드\n",
    "내부 함수에서 외부함수의 값을 **수정** 하도록 하는 키워드\n",
    "(접근은 키워드 없이도 된다)\n",
    "단 파이썬3에서만 지원\n",
    "[참고링크](https://itholic.github.io/python-namespace/)"
   ]
  },
  {
   "cell_type": "code",
   "execution_count": 45,
   "metadata": {},
   "outputs": [
    {
     "name": "stdout",
     "output_type": "stream",
     "text": [
      "['9', '8', '7', '6', '5', '4', '3', '2', '1', '0'] 3 119\n",
      "210\n"
     ]
    },
    {
     "ename": "",
     "evalue": "",
     "output_type": "error",
     "traceback": [
      "\u001b[1;31mThe Kernel crashed while executing code in the current cell or a previous cell. \n",
      "\u001b[1;31mPlease review the code in the cell(s) to identify a possible cause of the failure. \n",
      "\u001b[1;31mClick <a href='https://aka.ms/vscodeJupyterKernelCrash'>here</a> for more info. \n",
      "\u001b[1;31mView Jupyter <a href='command:jupyter.viewOutput'>log</a> for further details."
     ]
    }
   ],
   "source": [
    "n = int(input())\n",
    "\n",
    "def getCombination(n, c):\n",
    "    value = 1\n",
    "    temp = 1\n",
    "    for i in range(n, n-c, -1):\n",
    "        value *= i\n",
    "    for i in range(1, c+1):\n",
    "        temp*=i\n",
    "    return value//temp\n",
    "        \n",
    "def backtracking(arr, r, rank):\n",
    "    #arr중에서 r개를 조합한 것중 rank번째 조합 반환\n",
    "    #visited = [False]*len(arr)\n",
    "    result = None\n",
    "    is_find = False\n",
    "    def _prop(i_arr, start_i):\n",
    "        nonlocal rank, is_find, result\n",
    "        if len(i_arr) == r:\n",
    "            if rank == 0:\n",
    "                result = \"\".join(i_arr)\n",
    "                is_find = True\n",
    "            else:\n",
    "                rank-=1\n",
    "            return\n",
    "        for i in range(start_i, len(arr)):\n",
    "            _prop(i_arr + [arr[i]], i+1)\n",
    "            if is_find:\n",
    "                return\n",
    "    _prop([], 0)\n",
    "    return result\n",
    "    \n",
    "    \n",
    "    \n",
    "\n",
    "#n이 속한 집합(자리수 기준)의 최소값찾기\n",
    "#한자리 : 1~10, 두자리 : 11~55;10C2개 ...\n",
    "first_number = 1\n",
    "i = 1#자리수\n",
    "while True:\n",
    "    first_number += getCombination(10, i)\n",
    "    if n < first_number or i>10:\n",
    "        break\n",
    "    i+=1\n",
    "if i>10:\n",
    "    print(-1)\n",
    "else:    \n",
    "    #n이 속한 집합내부에서 이제 백트래킹하기\n",
    "    #print(first_number, i)\n",
    "    print(backtracking(list(map(str, range(9, -1, -1))), i, first_number - (n+1)))\n"
   ]
  },
  {
   "cell_type": "code",
   "execution_count": 43,
   "metadata": {},
   "outputs": [
    {
     "ename": "TypeError",
     "evalue": "int() argument must be a string, a bytes-like object or a real number, not 'list'",
     "output_type": "error",
     "traceback": [
      "\u001b[1;31m---------------------------------------------------------------------------\u001b[0m",
      "\u001b[1;31mTypeError\u001b[0m                                 Traceback (most recent call last)",
      "Cell \u001b[1;32mIn[43], line 1\u001b[0m\n\u001b[1;32m----> 1\u001b[0m \u001b[38;5;28;43mint\u001b[39;49m\u001b[43m(\u001b[49m\u001b[43m[\u001b[49m\u001b[38;5;241;43m8\u001b[39;49m\u001b[43m,\u001b[49m\u001b[43m \u001b[49m\u001b[38;5;241;43m5\u001b[39;49m\u001b[43m]\u001b[49m\u001b[43m)\u001b[49m\n",
      "\u001b[1;31mTypeError\u001b[0m: int() argument must be a string, a bytes-like object or a real number, not 'list'"
     ]
    }
   ],
   "source": [
    "int([8, 5])"
   ]
  },
  {
   "cell_type": "code",
   "execution_count": 42,
   "metadata": {},
   "outputs": [
    {
     "name": "stdout",
     "output_type": "stream",
     "text": [
      "[] 0\n",
      "[9] 1\n",
      "[9, 8] 2\n"
     ]
    },
    {
     "ename": "TypeError",
     "evalue": "sequence item 0: expected str instance, int found",
     "output_type": "error",
     "traceback": [
      "\u001b[1;31m---------------------------------------------------------------------------\u001b[0m",
      "\u001b[1;31mTypeError\u001b[0m                                 Traceback (most recent call last)",
      "Cell \u001b[1;32mIn[42], line 23\u001b[0m\n\u001b[0;32m     20\u001b[0m     _prop([], \u001b[38;5;241m0\u001b[39m)\n\u001b[0;32m     21\u001b[0m     \u001b[38;5;28;01mreturn\u001b[39;00m result\n\u001b[1;32m---> 23\u001b[0m \u001b[38;5;28mprint\u001b[39m(\u001b[43mbacktracking\u001b[49m\u001b[43m(\u001b[49m\u001b[38;5;28;43mlist\u001b[39;49m\u001b[43m(\u001b[49m\u001b[38;5;28;43mrange\u001b[39;49m\u001b[43m(\u001b[49m\u001b[38;5;241;43m9\u001b[39;49m\u001b[43m,\u001b[49m\u001b[43m \u001b[49m\u001b[38;5;241;43m-\u001b[39;49m\u001b[38;5;241;43m1\u001b[39;49m\u001b[43m,\u001b[49m\u001b[43m \u001b[49m\u001b[38;5;241;43m-\u001b[39;49m\u001b[38;5;241;43m1\u001b[39;49m\u001b[43m)\u001b[49m\u001b[43m)\u001b[49m\u001b[43m,\u001b[49m\u001b[43m \u001b[49m\u001b[38;5;241;43m2\u001b[39;49m\u001b[43m,\u001b[49m\u001b[43m \u001b[49m\u001b[38;5;241;43m0\u001b[39;49m\u001b[43m)\u001b[49m)\n",
      "Cell \u001b[1;32mIn[42], line 20\u001b[0m, in \u001b[0;36mbacktracking\u001b[1;34m(arr, r, rank)\u001b[0m\n\u001b[0;32m     18\u001b[0m         \u001b[38;5;28;01mif\u001b[39;00m is_find:\n\u001b[0;32m     19\u001b[0m             \u001b[38;5;28;01mreturn\u001b[39;00m\n\u001b[1;32m---> 20\u001b[0m \u001b[43m_prop\u001b[49m\u001b[43m(\u001b[49m\u001b[43m[\u001b[49m\u001b[43m]\u001b[49m\u001b[43m,\u001b[49m\u001b[43m \u001b[49m\u001b[38;5;241;43m0\u001b[39;49m\u001b[43m)\u001b[49m\n\u001b[0;32m     21\u001b[0m \u001b[38;5;28;01mreturn\u001b[39;00m result\n",
      "Cell \u001b[1;32mIn[42], line 17\u001b[0m, in \u001b[0;36mbacktracking.<locals>._prop\u001b[1;34m(i_arr, start_i)\u001b[0m\n\u001b[0;32m     15\u001b[0m     \u001b[38;5;28;01mreturn\u001b[39;00m\n\u001b[0;32m     16\u001b[0m \u001b[38;5;28;01mfor\u001b[39;00m i \u001b[38;5;129;01min\u001b[39;00m \u001b[38;5;28mrange\u001b[39m(start_i, \u001b[38;5;28mlen\u001b[39m(arr)):\n\u001b[1;32m---> 17\u001b[0m     \u001b[43m_prop\u001b[49m\u001b[43m(\u001b[49m\u001b[43mi_arr\u001b[49m\u001b[43m \u001b[49m\u001b[38;5;241;43m+\u001b[39;49m\u001b[43m \u001b[49m\u001b[43m[\u001b[49m\u001b[43marr\u001b[49m\u001b[43m[\u001b[49m\u001b[43mi\u001b[49m\u001b[43m]\u001b[49m\u001b[43m]\u001b[49m\u001b[43m,\u001b[49m\u001b[43m \u001b[49m\u001b[43mi\u001b[49m\u001b[38;5;241;43m+\u001b[39;49m\u001b[38;5;241;43m1\u001b[39;49m\u001b[43m)\u001b[49m\n\u001b[0;32m     18\u001b[0m     \u001b[38;5;28;01mif\u001b[39;00m is_find:\n\u001b[0;32m     19\u001b[0m         \u001b[38;5;28;01mreturn\u001b[39;00m\n",
      "Cell \u001b[1;32mIn[42], line 17\u001b[0m, in \u001b[0;36mbacktracking.<locals>._prop\u001b[1;34m(i_arr, start_i)\u001b[0m\n\u001b[0;32m     15\u001b[0m     \u001b[38;5;28;01mreturn\u001b[39;00m\n\u001b[0;32m     16\u001b[0m \u001b[38;5;28;01mfor\u001b[39;00m i \u001b[38;5;129;01min\u001b[39;00m \u001b[38;5;28mrange\u001b[39m(start_i, \u001b[38;5;28mlen\u001b[39m(arr)):\n\u001b[1;32m---> 17\u001b[0m     \u001b[43m_prop\u001b[49m\u001b[43m(\u001b[49m\u001b[43mi_arr\u001b[49m\u001b[43m \u001b[49m\u001b[38;5;241;43m+\u001b[39;49m\u001b[43m \u001b[49m\u001b[43m[\u001b[49m\u001b[43marr\u001b[49m\u001b[43m[\u001b[49m\u001b[43mi\u001b[49m\u001b[43m]\u001b[49m\u001b[43m]\u001b[49m\u001b[43m,\u001b[49m\u001b[43m \u001b[49m\u001b[43mi\u001b[49m\u001b[38;5;241;43m+\u001b[39;49m\u001b[38;5;241;43m1\u001b[39;49m\u001b[43m)\u001b[49m\n\u001b[0;32m     18\u001b[0m     \u001b[38;5;28;01mif\u001b[39;00m is_find:\n\u001b[0;32m     19\u001b[0m         \u001b[38;5;28;01mreturn\u001b[39;00m\n",
      "Cell \u001b[1;32mIn[42], line 11\u001b[0m, in \u001b[0;36mbacktracking.<locals>._prop\u001b[1;34m(i_arr, start_i)\u001b[0m\n\u001b[0;32m      9\u001b[0m \u001b[38;5;28;01mif\u001b[39;00m \u001b[38;5;28mlen\u001b[39m(i_arr) \u001b[38;5;241m==\u001b[39m r:\n\u001b[0;32m     10\u001b[0m     \u001b[38;5;28;01mif\u001b[39;00m rank \u001b[38;5;241m==\u001b[39m \u001b[38;5;241m0\u001b[39m:\n\u001b[1;32m---> 11\u001b[0m         result \u001b[38;5;241m=\u001b[39m \u001b[38;5;124;43m\"\u001b[39;49m\u001b[38;5;124;43m\"\u001b[39;49m\u001b[38;5;241;43m.\u001b[39;49m\u001b[43mjoin\u001b[49m\u001b[43m(\u001b[49m\u001b[43mi_arr\u001b[49m\u001b[43m)\u001b[49m\n\u001b[0;32m     12\u001b[0m         is_find \u001b[38;5;241m=\u001b[39m \u001b[38;5;28;01mTrue\u001b[39;00m\n\u001b[0;32m     13\u001b[0m     \u001b[38;5;28;01melse\u001b[39;00m:\n",
      "\u001b[1;31mTypeError\u001b[0m: sequence item 0: expected str instance, int found"
     ]
    }
   ],
   "source": [
    "def backtracking(arr, r, rank):\n",
    "    #arr중에서 r개를 조합한 것중 rank번째 조합 반환\n",
    "    #visited = [False]*len(arr)\n",
    "    result = None\n",
    "    is_find = False\n",
    "    def _prop(i_arr, start_i):\n",
    "        print(i_arr, start_i)\n",
    "        nonlocal rank, is_find, result\n",
    "        if len(i_arr) == r:\n",
    "            if rank == 0:\n",
    "                result = \"\".join(i_arr)\n",
    "                is_find = True\n",
    "            else:\n",
    "                rank-=1\n",
    "            return\n",
    "        for i in range(start_i, len(arr)):\n",
    "            _prop(i_arr + [arr[i]], i+1)\n",
    "            if is_find:\n",
    "                return\n",
    "    _prop([], 0)\n",
    "    return result\n",
    "    \n",
    "print(backtracking(list(range(9, -1, -1)), 2, 0))"
   ]
  },
  {
   "cell_type": "code",
   "execution_count": 14,
   "metadata": {},
   "outputs": [
    {
     "name": "stdout",
     "output_type": "stream",
     "text": [
      "초기상태 스택 : [([1], 0), ([2], 1), ([3], 2), ([4], 3)]\n",
      "[([1], 0), ([2], 1), ([3], 2), ([4], 3)]\n",
      "[([1], 0), ([2], 1), ([3], 2)]\n",
      "[([1], 0), ([2], 1), ([3, 4], 3)]\n",
      "[([1], 0), ([2], 1)]\n",
      "[([1], 0), ([2, 3], 2), ([2, 4], 3)]\n",
      "[([1], 0), ([2, 3], 2)]\n",
      "[([1], 0)]\n",
      "[([1, 2], 1), ([1, 3], 2), ([1, 4], 3)]\n",
      "[([1, 2], 1), ([1, 3], 2)]\n",
      "[([1, 2], 1)]\n",
      "만들어진 조합리스트\n",
      "[1, 2]\n",
      "[1, 3]\n",
      "[1, 4]\n",
      "[2, 3]\n",
      "[2, 4]\n",
      "[3, 4]\n"
     ]
    }
   ],
   "source": [
    "lst = [1,2,3,4]\n",
    "n = 2\n",
    "\n",
    "combinations = []\n",
    "stack = [([x], i) for i, x in enumerate(lst)]  # 조합저장리스트, 마지막인덱스값\n",
    "print('초기상태 스택 :', stack)\n",
    "\n",
    "while stack:\n",
    "    print(stack)\n",
    "    comb, last_idx = stack.pop()\n",
    "    \n",
    "    # n개를 모두 뽑은 경우 조합을 추가한 후 continue\n",
    "    if len(comb)==n:\n",
    "        combinations.append(comb)\n",
    "        continue\n",
    "    \n",
    "    # n개를 뽑지않은경우 마지막인덱스+1부터 추가\n",
    "    for i in range(last_idx+1, len(lst)):\n",
    "        stack.append((comb+[lst[i]], i))\n",
    "            \n",
    "print('만들어진 조합리스트')\n",
    "for p in sorted(combinations):\n",
    "    print(p)"
   ]
  },
  {
   "cell_type": "markdown",
   "metadata": {},
   "source": []
  }
 ],
 "metadata": {
  "kernelspec": {
   "display_name": "Python 3",
   "language": "python",
   "name": "python3"
  },
  "language_info": {
   "codemirror_mode": {
    "name": "ipython",
    "version": 3
   },
   "file_extension": ".py",
   "mimetype": "text/x-python",
   "name": "python",
   "nbconvert_exporter": "python",
   "pygments_lexer": "ipython3",
   "version": "3.12.3"
  }
 },
 "nbformat": 4,
 "nbformat_minor": 2
}
