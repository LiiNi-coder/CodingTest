{
 "cells": [
  {
   "cell_type": "markdown",
   "metadata": {},
   "source": [
    "# [문자열](https://github.com/tony9402/baekjoon/tree/main/string)"
   ]
  },
  {
   "cell_type": "markdown",
   "metadata": {},
   "source": [
    "## 20437 문자열 게임2\n",
    "### 골드 5\n",
    "[백준문제](https://www.acmicpc.net/problem/20437)"
   ]
  },
  {
   "cell_type": "code",
   "execution_count": 14,
   "metadata": {},
   "outputs": [
    {
     "name": "stdout",
     "output_type": "stream",
     "text": [
      "4 8\n",
      "10001 0\n"
     ]
    }
   ],
   "source": [
    "from collections import defaultdict\n",
    "T = int(input())\n",
    "Ws = []\n",
    "Ks = []\n",
    "for test_case in range(T):\n",
    "    Ws.append(input())\n",
    "    Ks.append(int(input()))\n",
    "\n",
    "for test_case in range(T):\n",
    "    W = Ws[test_case]\n",
    "    K = Ks[test_case]\n",
    "    char_indexes = defaultdict(list)\n",
    "    \n",
    "    # log(n); k개 이상을 가지는 알파벳들 딕셔너리 생성; char_indexes\n",
    "    for i, c in enumerate(W):\n",
    "        char_indexes[c].append(i)\n",
    "    temp = {}\n",
    "    for k, v in char_indexes.items():\n",
    "        if len(v) >= K:\n",
    "            temp[k] = v\n",
    "    char_indexes = temp\n",
    "\n",
    "    # char_indexes를 토대로 indexes간의 k만큼 떨어져있는 것들의 index차를 이용\n",
    "    q3_min = 10001\n",
    "    q4_max = 0\n",
    "    q3, q4 = None, None\n",
    "    for c, indexes in char_indexes.items():\n",
    "        if len(indexes) < K:\n",
    "            continue\n",
    "        for i in range(len(indexes) - (K - 1)):\n",
    "            diff = indexes[i+(K-1)] - indexes[i] + 1\n",
    "            if q3_min >= diff:\n",
    "                q3_min = diff\n",
    "                #q3 = W[indexes[i]:indexes[i+1]+1]\n",
    "            if q4_max <= diff:\n",
    "                q4_max = diff\n",
    "                #q4 = W[indexes[i]:indexes[i+1]+1]\n",
    "    \n",
    "    #print(q3, q4)\n",
    "    print(q3_min, q4_max) if not(q3_min == 10001 and q4_max == 0) else print(-1)"
   ]
  },
  {
   "cell_type": "markdown",
   "metadata": {},
   "source": [
    "### 50분\n",
    "분할을 할 떄 bfs마냥 모든곳을 보게해서 n==1일때 전역변수 i가 4증가하게 하여 천천히 4씩 더해가며 세어나가서 오래걸림.\n",
    "그냥 분할을 할 떄 필요한 곳으로만 분할conq호출하면 되는건데..."
   ]
  },
  {
   "cell_type": "code",
   "execution_count": 4,
   "metadata": {},
   "outputs": [
    {
     "name": "stdout",
     "output_type": "stream",
     "text": [
      "0\n"
     ]
    }
   ],
   "source": [
    "for i in range(1):\n",
    "    print(i)"
   ]
  }
 ],
 "metadata": {
  "kernelspec": {
   "display_name": "Python 3",
   "language": "python",
   "name": "python3"
  },
  "language_info": {
   "codemirror_mode": {
    "name": "ipython",
    "version": 3
   },
   "file_extension": ".py",
   "mimetype": "text/x-python",
   "name": "python",
   "nbconvert_exporter": "python",
   "pygments_lexer": "ipython3",
   "version": "3.12.3"
  }
 },
 "nbformat": 4,
 "nbformat_minor": 2
}
