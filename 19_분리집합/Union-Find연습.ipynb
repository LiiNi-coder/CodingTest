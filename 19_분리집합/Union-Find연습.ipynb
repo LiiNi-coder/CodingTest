{
 "cells": [
  {
   "cell_type": "markdown",
   "metadata": {},
   "source": [
    "# Union-Find\n",
    "## 언제 써야할까\n",
    "그래프 환경에서, 동적으로 간선이 연결이 되어가는 상황(정적이면 이 알고리즘 안씀)에서 중간 중간에 점과 점이 연결되었는지를 여러번 확인할 때 적합\n",
    "## Operation\n",
    "1. `Union(p, q)` : p점과 q점을 하나의 집합으로 엮음\n",
    "2. `connected(==find)(p, q)` : p점과 q점이 같은 집합에 있는가?"
   ]
  },
  {
   "cell_type": "markdown",
   "metadata": {},
   "source": [
    "# 트리 길이 생각 안한 Quick-Union 방법 \n",
    "## 개요 \n",
    "connected component를 Tree로 봄\n",
    "`ids[i]` : 객체 i의 parent\n",
    "만약 객체 i가 root라면 `ids[i] == i`\n",
    "`connected(p, q)` : if `root(p) == root(q)` then True\n",
    "`Union(p, q)` : root(p)를 root(q)아래로 옮겨 붙이기\n",
    "## 단점 \n",
    "`union`연산이 O(N)이라는 문제. 트리가 일자형으로 쭈욱 길어질수있기 때문"
   ]
  },
  {
   "cell_type": "code",
   "execution_count": null,
   "metadata": {},
   "outputs": [],
   "source": [
    "N = 100\n",
    "ids = [i for i in range(100)]\n",
    "def root(p):\n",
    "    iter = ids[p]\n",
    "    while iter != p:\n",
    "        iter = ids[iter]\n",
    "    return iter\n",
    "def union(p, q):\n",
    "    ids[root(p)] = root(q)\n",
    "def connected(p, q):\n",
    "    return root(p) == root(q)"
   ]
  },
  {
   "cell_type": "markdown",
   "metadata": {},
   "source": [
    "# 트리 길이 생각한 Weighted Quick-Union 방법 \n",
    "## 개요 \n",
    "`Quick-Union`방식과 유사\n",
    "`size[i]` : i가 속한 트리의 사이즈(=최대깊이)\n",
    "`Union(p, q)` : size가 작은 tree의 root를 size가 큰 tree의 root아래에 연결\n",
    "## 단점 \n",
    "`union`연산이 O(N)이라는 문제. 트리가 일자형으로 쭈욱 길어질수있기 때문"
   ]
  },
  {
   "cell_type": "code",
   "execution_count": null,
   "metadata": {},
   "outputs": [],
   "source": [
    "N = 100\n",
    "ids = [i for i in range(N)]\n",
    "size = [1 for _ in range(N)]\n",
    "def root(p):\n",
    "    iter = ids[p]\n",
    "    while iter != ids[iter]:\n",
    "        iter = ids[iter]\n",
    "    return iter\n",
    "def union(p, q):\n",
    "    if size(p) > size(q):\n",
    "        p, q = q, p\n",
    "    #이제 p가 더 size가 작은 트리에 속해있는 정점\n",
    "    #즉 root(p)가 q의 root아래에 편입\n",
    "    r_p, r_q = root(p), root(q)\n",
    "    ids[r_p] = r_q\n",
    "    size[r_q] += size[r_p]\n",
    "def connected(p, q):\n",
    "    return root(p) == root(q)"
   ]
  }
 ],
 "metadata": {
  "language_info": {
   "name": "python"
  }
 },
 "nbformat": 4,
 "nbformat_minor": 2
}
