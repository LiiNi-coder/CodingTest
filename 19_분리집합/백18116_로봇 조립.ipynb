{
 "cells": [
  {
   "cell_type": "markdown",
   "metadata": {},
   "source": [
    "골드 4\n",
    "[백준링크](https://www.acmicpc.net/problem/18116)"
   ]
  },
  {
   "cell_type": "code",
   "execution_count": 3,
   "metadata": {},
   "outputs": [
    {
     "name": "stdout",
     "output_type": "stream",
     "text": [
      "3\n",
      "0\n"
     ]
    }
   ],
   "source": [
    "import sys\n",
    "#input = sys.stdin.readline\n",
    "MAX_NUMBER = 10000001\n",
    "from collections import defaultdict\n",
    "N = int(input().rstrip())\n",
    "class UF:\n",
    "    def __init__(self):\n",
    "        self.ids = {}\n",
    "        self.size = defaultdict(int)\n",
    "    def _root(self, p):\n",
    "        iter = p\n",
    "        while True:\n",
    "            if iter not in self.ids:\n",
    "                self.ids[iter] = iter\n",
    "            if iter == self.ids[iter]:\n",
    "                break\n",
    "            iter = self.ids[iter]\n",
    "        return iter\n",
    "    def _union(self, p, q):\n",
    "        for v in (p, q):\n",
    "            if v not in self.size:\n",
    "                self.size[v] = 1\n",
    "        if self.size[p] > self.size[q]: p, q = q, p\n",
    "        r_p, r_q = self._root(p), self._root(q)\n",
    "        for v in (r_p, r_q):\n",
    "            if v not in self.size:\n",
    "                self.size[v] = 1\n",
    "        self.ids[r_p] = r_q\n",
    "        self.size[r_q] += self.size[r_p]\n",
    "    def _connected(self, p, q):\n",
    "        return self._root(p) == self._root(q)\n",
    "    def commandI(self, p, q):\n",
    "        self._union(p, q)\n",
    "    def commandQ(self, p)->int:\n",
    "        r_p = self._root(p)\n",
    "        if r_p not in self.size:\n",
    "            return 1\n",
    "        else:\n",
    "            return self.size[r_p]\n",
    "uf = UF()\n",
    "for _ in range(N):\n",
    "    tokens = input().rstrip().split()\n",
    "    if len(tokens) == 3:\n",
    "        p, q = int(tokens[1]), int(tokens[2])\n",
    "        uf.commandI(p, q)\n",
    "    else:\n",
    "        p = int(tokens[1])\n",
    "        print(uf.commandQ(p))"
   ]
  },
  {
   "cell_type": "code",
   "execution_count": 2,
   "metadata": {},
   "outputs": [
    {
     "name": "stdout",
     "output_type": "stream",
     "text": [
      "1\n",
      "2\n",
      "3\n",
      "4\n"
     ]
    }
   ],
   "source": [
    "output = [1, 2,3 ,4]\n",
    "print(*output, sep=\"\\n\")"
   ]
  }
 ],
 "metadata": {
  "kernelspec": {
   "display_name": "Python 3",
   "language": "python",
   "name": "python3"
  },
  "language_info": {
   "codemirror_mode": {
    "name": "ipython",
    "version": 3
   },
   "file_extension": ".py",
   "mimetype": "text/x-python",
   "name": "python",
   "nbconvert_exporter": "python",
   "pygments_lexer": "ipython3",
   "version": "3.12.6"
  }
 },
 "nbformat": 4,
 "nbformat_minor": 2
}
