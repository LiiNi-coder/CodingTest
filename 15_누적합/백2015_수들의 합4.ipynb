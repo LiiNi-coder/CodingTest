{
 "cells": [
  {
   "cell_type": "markdown",
   "metadata": {},
   "source": [
    "# [누적합](https://github.com/tony9402/baekjoon/tree/main/prefix_sum)\n",
    "N이 엄청 클 때 사용하자\n",
    "또한 부분합 문제에 적합"
   ]
  },
  {
   "cell_type": "markdown",
   "metadata": {},
   "source": [
    "## 2015 수들의 합 4\n",
    "### 골드 4\n",
    "[백준문제](https://www.acmicpc.net/problem/2015)"
   ]
  },
  {
   "cell_type": "code",
   "execution_count": 7,
   "metadata": {},
   "outputs": [
    {
     "name": "stdout",
     "output_type": "stream",
     "text": [
      "0 2\n",
      "0 0\n",
      "0 2\n",
      "0 0\n",
      "2 0\n",
      "2 2\n",
      "2 0\n",
      "0 2\n",
      "0 0\n",
      "2 0\n",
      "4\n"
     ]
    }
   ],
   "source": [
    "N, K = map(int, input().split())\n",
    "arr = list(map(int, input().split()))\n",
    "temp = 0\n",
    "prefix_sum = []\n",
    "for i in arr:\n",
    "    temp += i\n",
    "    prefix_sum.append(temp)\n",
    "answer = 0\n",
    "for l in range(N):\n",
    "    for r in range(l, N):\n",
    "        left_sum = prefix_sum[l-1] if l > 0 else 0\n",
    "        right_sum = prefix_sum[r]\n",
    "        #print(left_sum, right_sum)\n",
    "        if right_sum - left_sum == K:\n",
    "            answer+=1\n",
    "print(answer)"
   ]
  },
  {
   "cell_type": "markdown",
   "metadata": {},
   "source": [
    "### 50분\n",
    "분할을 할 떄 bfs마냥 모든곳을 보게해서 n==1일때 전역변수 i가 4증가하게 하여 천천히 4씩 더해가며 세어나가서 오래걸림.\n",
    "그냥 분할을 할 떄 필요한 곳으로만 분할conq호출하면 되는건데..."
   ]
  }
 ],
 "metadata": {
  "kernelspec": {
   "display_name": "Python 3",
   "language": "python",
   "name": "python3"
  },
  "language_info": {
   "codemirror_mode": {
    "name": "ipython",
    "version": 3
   },
   "file_extension": ".py",
   "mimetype": "text/x-python",
   "name": "python",
   "nbconvert_exporter": "python",
   "pygments_lexer": "ipython3",
   "version": "3.12.3"
  }
 },
 "nbformat": 4,
 "nbformat_minor": 2
}
