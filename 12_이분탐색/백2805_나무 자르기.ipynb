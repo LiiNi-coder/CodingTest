{
 "cells": [
  {
   "cell_type": "markdown",
   "metadata": {},
   "source": [
    "# [이분탐색](https://github.com/tony9402/baekjoon/tree/main/binary_search)"
   ]
  },
  {
   "cell_type": "markdown",
   "metadata": {},
   "source": [
    "## 2805 나무 자르기\n",
    "### 실버2\n",
    "[백준문제](https://www.acmicpc.net/problem/2805)"
   ]
  },
  {
   "cell_type": "code",
   "execution_count": 1,
   "metadata": {},
   "outputs": [
    {
     "name": "stdout",
     "output_type": "stream",
     "text": [
      "23\n"
     ]
    }
   ],
   "source": [
    "N, M = map(int, input().split())\n",
    "heights = list(map(int, input().split()))\n",
    "if N==1:\n",
    "    print(heights[0]-M)\n",
    "else:\n",
    "    heights.sort()\n",
    "\n",
    "    from collections import deque\n",
    "    heights_prefix_sum = deque()\n",
    "    heights_prefix_sum.append(0)\n",
    "    temp = 0\n",
    "    for i in range(N-2, -1, -1):\n",
    "        temp += heights[i+1]\n",
    "        heights_prefix_sum.appendleft(temp)\n",
    "    def binarySearch(left, right):\n",
    "        while left<=right:\n",
    "            mid = (right+left)//2\n",
    "            h = heights[mid]\n",
    "            g = heights_prefix_sum[mid] - h*(N - mid - 1)\n",
    "            #print(f\"(mid {mid}, g {g})\",end=\" \")\n",
    "            if g < M:\n",
    "                right = mid - 1\n",
    "            elif g > M:\n",
    "                left = mid + 1\n",
    "            else:\n",
    "                break\n",
    "        return (left, right)\n",
    "    l, r = binarySearch(0, N-1)\n",
    "    #print(l, r)\n",
    "    if l <= r:\n",
    "        print(heights[(l+r)//2])\n",
    "    else:\n",
    "        l, r = r, l\n",
    "        n_right = N - r\n",
    "        for h in range(heights[l]+1, heights[r]):\n",
    "            #print(f\"(h {h}, g {g})\", end=\" \")\n",
    "            g = heights_prefix_sum[l] - h*n_right\n",
    "            if g < M:\n",
    "                h-=1\n",
    "                break\n",
    "        print(h)"
   ]
  },
  {
   "cell_type": "code",
   "execution_count": null,
   "metadata": {},
   "outputs": [],
   "source": []
  }
 ],
 "metadata": {
  "kernelspec": {
   "display_name": "Python 3",
   "language": "python",
   "name": "python3"
  },
  "language_info": {
   "codemirror_mode": {
    "name": "ipython",
    "version": 3
   },
   "file_extension": ".py",
   "mimetype": "text/x-python",
   "name": "python",
   "nbconvert_exporter": "python",
   "pygments_lexer": "ipython3",
   "version": "3.12.3"
  }
 },
 "nbformat": 4,
 "nbformat_minor": 2
}
