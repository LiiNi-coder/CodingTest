{
 "cells": [
  {
   "cell_type": "markdown",
   "metadata": {},
   "source": [
    "## 예산\n",
    "### 실버2\n",
    "[백준문제](https://www.acmicpc.net/problem/2512)"
   ]
  },
  {
   "cell_type": "code",
   "execution_count": 9,
   "metadata": {},
   "outputs": [
    {
     "name": "stdout",
     "output_type": "stream",
     "text": [
      "0 50 100\n",
      "51 75 100\n",
      "76 88 100\n",
      "89 94 100\n",
      "95 97 100\n",
      "98 99 100\n",
      "100 100 100\n",
      "100\n"
     ]
    }
   ],
   "source": [
    "n = int(input())\n",
    "requests = list(map(int, input().split()))\n",
    "requests.sort()\n",
    "budget = int(input())\n",
    "\n",
    "#left, mid, right는 request[i]\n",
    "left, right = 0, requests[-1]\n",
    "\n",
    "while left <= right:\n",
    "    mid = (left + right) // 2\n",
    "    #print(left, mid, right)\n",
    "    sum_iter_requests = 0\n",
    "    for request in requests:\n",
    "        sum_iter_requests += min(request, mid)\n",
    "        \n",
    "    if sum_iter_requests < budget:\n",
    "        left = mid+1\n",
    "    elif sum_iter_requests > budget:\n",
    "        right = mid-1\n",
    "    else:\n",
    "        break\n",
    "if sum_iter_requests > budget:\n",
    "    print(mid - 1)\n",
    "else:\n",
    "    print(mid)\n",
    "    "
   ]
  },
  {
   "cell_type": "code",
   "execution_count": null,
   "metadata": {},
   "outputs": [],
   "source": []
  }
 ],
 "metadata": {
  "kernelspec": {
   "display_name": "Python 3",
   "language": "python",
   "name": "python3"
  },
  "language_info": {
   "codemirror_mode": {
    "name": "ipython",
    "version": 3
   },
   "file_extension": ".py",
   "mimetype": "text/x-python",
   "name": "python",
   "nbconvert_exporter": "python",
   "pygments_lexer": "ipython3",
   "version": "3.12.3"
  }
 },
 "nbformat": 4,
 "nbformat_minor": 2
}
